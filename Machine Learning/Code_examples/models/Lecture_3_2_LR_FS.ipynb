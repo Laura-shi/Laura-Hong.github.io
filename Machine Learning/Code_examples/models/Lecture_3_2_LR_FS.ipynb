{
 "cells": [
  {
   "cell_type": "markdown",
   "metadata": {},
   "source": [
    "# Gradient Descent for Multilinear regression from scratch...\n",
    "### Step by step process....."
   ]
  },
  {
   "cell_type": "code",
   "execution_count": 21,
   "metadata": {},
   "outputs": [],
   "source": [
    "import numpy as np\n",
    "import pandas as pd\n",
    "import matplotlib.pyplot as plt\n",
    "import seaborn as sns\n",
    "from tqdm import tqdm"
   ]
  },
  {
   "cell_type": "code",
   "execution_count": 18,
   "metadata": {},
   "outputs": [
    {
     "name": "stdout",
     "output_type": "stream",
     "text": [
      "Data shape : (506, 13)\n",
      "Target shape :  (506,)\n"
     ]
    }
   ],
   "source": [
    "\n",
    "from sklearn.datasets import load_boston\n",
    "boston = load_boston()\n",
    "\n",
    "X = boston.data\n",
    "\n",
    "print('Data shape :', X.shape)\n",
    "Y = boston.target\n",
    "print('Target shape : ', Y.shape)"
   ]
  },
  {
   "cell_type": "markdown",
   "metadata": {},
   "source": [
    "## Step 1 : Normalize the data "
   ]
  },
  {
   "cell_type": "code",
   "execution_count": 5,
   "metadata": {},
   "outputs": [],
   "source": [
    "\n",
    "from sklearn.preprocessing import StandardScaler\n",
    "sc=StandardScaler()\n",
    "X_transform=sc.fit_transform(X)"
   ]
  },
  {
   "cell_type": "markdown",
   "metadata": {},
   "source": [
    "## Step 2 : Initialize the parameters:"
   ]
  },
  {
   "cell_type": "code",
   "execution_count": null,
   "metadata": {},
   "outputs": [],
   "source": [
    "\n",
    "weight_vector=np.random.randn(x.shape[1])\n",
    "intercept=0\n",
    "learning_rate = 0.001\n"
   ]
  },
  {
   "cell_type": "markdown",
   "metadata": {},
   "source": [
    "## Step 3 : Find derivatives of loss w.r.t weight and bias.\n",
    "\n"
   ]
  },
  {
   "cell_type": "code",
   "execution_count": 6,
   "metadata": {},
   "outputs": [],
   "source": [
    "\n",
    "# Define the LOSS function ....\n",
    "\n",
    "def loss(y,y_predicted):\n",
    "    n=len(y)\n",
    "    s=0\n",
    "    for i in range(n):\n",
    "        s+=(y[i]-y_predicted[i])**2\n",
    "    return (1/n)*s\n"
   ]
  },
  {
   "cell_type": "code",
   "execution_count": 8,
   "metadata": {},
   "outputs": [],
   "source": [
    "# code for \"wx+b\"\n",
    "def predicted_y(weight,x,intercept):\n",
    "    y_lst=[]\n",
    "    for i in range(len(x)):\n",
    "        y_lst.append(weight@x[i]+intercept) #dot product btween weight and input\n",
    "    return np.array(y_lst)"
   ]
  },
  {
   "cell_type": "code",
   "execution_count": 9,
   "metadata": {},
   "outputs": [],
   "source": [
    "#derivative of loss w.r.t weight \n",
    "def dldw(x,y,y_predicted):\n",
    "    s=0\n",
    "    n=len(y)\n",
    "    for i in range(n):\n",
    "        s+=-x[i]*(y[i]-y_predicted[i])\n",
    "    return (2/n)*s"
   ]
  },
  {
   "cell_type": "code",
   "execution_count": 10,
   "metadata": {},
   "outputs": [],
   "source": [
    "# derivative of loss w.r.t bias\n",
    "def dldb(y,y_predicted):\n",
    "    n=len(y)\n",
    "    s=0\n",
    "    for i in range(len(y)):\n",
    "        s+=-(y[i]-y_predicted[i])\n",
    "    return (2/n) * s"
   ]
  },
  {
   "cell_type": "markdown",
   "metadata": {},
   "source": [
    "# Step 4: Update the weight and bias till we get the global minima.\n",
    "        "
   ]
  },
  {
   "cell_type": "code",
   "execution_count": 19,
   "metadata": {},
   "outputs": [],
   "source": [
    "# gradient function\n",
    "def gradient_descent(x,y):\n",
    "    \n",
    "    weight_vector=np.random.randn(x.shape[1])\n",
    "    intercept=0\n",
    "    epoch = 2000\n",
    "    \n",
    "    n = len(x)\n",
    "    linear_loss=[]\n",
    "    learning_rate = 0.001\n",
    "\n",
    "    for i in range(epoch):\n",
    "        \n",
    "        \n",
    "        y_predicted = predicted_y(weight_vector,x,intercept)\n",
    "        \n",
    "        weight_vector = weight_vector - learning_rate *dldw(x,y,y_predicted) \n",
    "        \n",
    "        \n",
    "        intercept = intercept - learning_rate * dldb(y,y_predicted)\n",
    "        linear_loss.append(loss(y,y_predicted))\n",
    "        \n",
    "    plt.plot(np.arange(1,epoch),linear_loss[1:])\n",
    "    plt.xlabel(\"number of epoch\")\n",
    "    plt.ylabel(\"loss\")\n",
    "    \n",
    "    return weight_vector,intercept"
   ]
  },
  {
   "cell_type": "code",
   "execution_count": 22,
   "metadata": {},
   "outputs": [
    {
     "name": "stdout",
     "output_type": "stream",
     "text": [
      "weight: [-0.69405149  0.95246243 -0.78230461  0.83724316 -0.69299337  3.31262088\n",
      " -0.54731133 -2.76620466  0.4949797  -0.48465068 -1.4177715   0.82357716\n",
      " -3.14860427]\n",
      "bias: 22.12175328966187\n"
     ]
    },
    {
     "data": {
      "image/png": "[encoded data removed]",
      "text/plain": [
       "<Figure size 432x288 with 1 Axes>"
      ]
     },
     "metadata": {
      "needs_background": "light"
     },
     "output_type": "display_data"
    }
   ],
   "source": [
    "w,b=gradient_descent(X_transform,Y)\n",
    "\n",
    "print(\"weight:\",w)\n",
    "print(\"bias:\",b)"
   ]
  },
  {
   "cell_type": "markdown",
   "metadata": {},
   "source": [
    "# Prediction"
   ]
  },
  {
   "cell_type": "code",
   "execution_count": 23,
   "metadata": {},
   "outputs": [],
   "source": [
    "def predict(inp):\n",
    "    y_lst=[]\n",
    "    for i in range(len(inp)):\n",
    "        y_lst.append(w@inp[i]+b)\n",
    "    return np.array(y_lst)"
   ]
  },
  {
   "cell_type": "code",
   "execution_count": null,
   "metadata": {},
   "outputs": [],
   "source": [
    "y_pred=predict(X_transform)\n",
    "y_pred"
   ]
  },
  {
   "cell_type": "code",
   "execution_count": 25,
   "metadata": {},
   "outputs": [
    {
     "data": {
      "text/html": [
       "<div>\n",
       "<style scoped>\n",
       "    .dataframe tbody tr th:only-of-type {\n",
       "        vertical-align: middle;\n",
       "    }\n",
       "\n",
       "    .dataframe tbody tr th {\n",
       "        vertical-align: top;\n",
       "    }\n",
       "\n",
       "    .dataframe thead th {\n",
       "        text-align: right;\n",
       "    }\n",
       "</style>\n",
       "<table border=\"1\" class=\"dataframe\">\n",
       "  <thead>\n",
       "    <tr style=\"text-align: right;\">\n",
       "      <th></th>\n",
       "      <th>y_actual</th>\n",
       "      <th>y_predicted</th>\n",
       "    </tr>\n",
       "  </thead>\n",
       "  <tbody>\n",
       "    <tr>\n",
       "      <th>0</th>\n",
       "      <td>24.0</td>\n",
       "      <td>30.3</td>\n",
       "    </tr>\n",
       "    <tr>\n",
       "      <th>1</th>\n",
       "      <td>21.6</td>\n",
       "      <td>24.0</td>\n",
       "    </tr>\n",
       "    <tr>\n",
       "      <th>2</th>\n",
       "      <td>34.7</td>\n",
       "      <td>30.2</td>\n",
       "    </tr>\n",
       "    <tr>\n",
       "      <th>3</th>\n",
       "      <td>33.4</td>\n",
       "      <td>28.8</td>\n",
       "    </tr>\n",
       "    <tr>\n",
       "      <th>4</th>\n",
       "      <td>36.2</td>\n",
       "      <td>28.3</td>\n",
       "    </tr>\n",
       "    <tr>\n",
       "      <th>...</th>\n",
       "      <td>...</td>\n",
       "      <td>...</td>\n",
       "    </tr>\n",
       "    <tr>\n",
       "      <th>501</th>\n",
       "      <td>22.4</td>\n",
       "      <td>24.6</td>\n",
       "    </tr>\n",
       "    <tr>\n",
       "      <th>502</th>\n",
       "      <td>20.6</td>\n",
       "      <td>22.7</td>\n",
       "    </tr>\n",
       "    <tr>\n",
       "      <th>503</th>\n",
       "      <td>23.9</td>\n",
       "      <td>28.2</td>\n",
       "    </tr>\n",
       "    <tr>\n",
       "      <th>504</th>\n",
       "      <td>22.0</td>\n",
       "      <td>26.7</td>\n",
       "    </tr>\n",
       "    <tr>\n",
       "      <th>505</th>\n",
       "      <td>11.9</td>\n",
       "      <td>22.5</td>\n",
       "    </tr>\n",
       "  </tbody>\n",
       "</table>\n",
       "<p>506 rows × 2 columns</p>\n",
       "</div>"
      ],
      "text/plain": [
       "     y_actual  y_predicted\n",
       "0        24.0         30.3\n",
       "1        21.6         24.0\n",
       "2        34.7         30.2\n",
       "3        33.4         28.8\n",
       "4        36.2         28.3\n",
       "..        ...          ...\n",
       "501      22.4         24.6\n",
       "502      20.6         22.7\n",
       "503      23.9         28.2\n",
       "504      22.0         26.7\n",
       "505      11.9         22.5\n",
       "\n",
       "[506 rows x 2 columns]"
      ]
     },
     "execution_count": 25,
     "metadata": {},
     "output_type": "execute_result"
    }
   ],
   "source": [
    "df_pred=pd.DataFrame()\n",
    "df_pred[\"y_actual\"]=Y\n",
    "df_pred[\"y_predicted\"]=np.round(y_pred,1)\n",
    "df_pred"
   ]
  },
  {
   "cell_type": "code",
   "execution_count": 32,
   "metadata": {},
   "outputs": [
    {
     "name": "stdout",
     "output_type": "stream",
     "text": [
      "Mean Absulute Error (MAE) : 3.214652028747976\n",
      "Mean Squared Error (MSE) : 23.194300982280378\n",
      "Root Mean Squared Error (RMSE) : 4.81604619810487\n"
     ]
    }
   ],
   "source": [
    "from sklearn import metrics\n",
    "import numpy as np\n",
    "\n",
    "print('Mean Absulute Error (MAE) :',metrics.mean_absolute_error(Y,y_pred))\n",
    "print('Mean Squared Error (MSE) :',metrics.mean_squared_error(Y,y_pred))\n",
    "print('Root Mean Squared Error (RMSE) :', np.sqrt(metrics.mean_squared_error(Y,y_pred)))"
   ]
  },
  {
   "cell_type": "markdown",
   "metadata": {},
   "source": [
    "# GD regression with Sklearn .. "
   ]
  },
  {
   "cell_type": "code",
   "execution_count": 26,
   "metadata": {},
   "outputs": [
    {
     "data": {
      "text/plain": [
       "SGDRegressor(alpha=0, eta0=0.001, learning_rate='constant')"
      ]
     },
     "execution_count": 26,
     "metadata": {},
     "output_type": "execute_result"
    }
   ],
   "source": [
    "from sklearn.linear_model import SGDRegressor\n",
    "model=SGDRegressor(alpha=0,learning_rate=\"constant\",eta0=0.001)\n",
    "model.fit(X_transform,Y)"
   ]
  },
  {
   "cell_type": "code",
   "execution_count": 27,
   "metadata": {},
   "outputs": [
    {
     "data": {
      "text/plain": [
       "array([22.53316929])"
      ]
     },
     "execution_count": 27,
     "metadata": {},
     "output_type": "execute_result"
    }
   ],
   "source": [
    "model.intercept_"
   ]
  },
  {
   "cell_type": "code",
   "execution_count": 28,
   "metadata": {},
   "outputs": [
    {
     "data": {
      "text/plain": [
       "array([-0.82002852,  0.90660424, -0.15462804,  0.75882013, -1.76805424,\n",
       "        2.77371282, -0.03211019, -2.97332622,  1.80609185, -1.07930039,\n",
       "       -1.98812914,  0.84357959, -3.66979102])"
      ]
     },
     "execution_count": 28,
     "metadata": {},
     "output_type": "execute_result"
    }
   ],
   "source": [
    "model.coef_"
   ]
  },
  {
   "cell_type": "markdown",
   "metadata": {},
   "source": [
    "# Compare the weights with previous learned weights...."
   ]
  },
  {
   "cell_type": "code",
   "execution_count": 30,
   "metadata": {},
   "outputs": [
    {
     "data": {
      "text/plain": [
       "array([-0.69405149,  0.95246243, -0.78230461,  0.83724316, -0.69299337,\n",
       "        3.31262088, -0.54731133, -2.76620466,  0.4949797 , -0.48465068,\n",
       "       -1.4177715 ,  0.82357716, -3.14860427])"
      ]
     },
     "execution_count": 30,
     "metadata": {},
     "output_type": "execute_result"
    }
   ],
   "source": [
    "w"
   ]
  }
 ],
 "metadata": {
  "kernelspec": {
   "display_name": "Python 3 (ipykernel)",
   "language": "python",
   "name": "python3"
  },
  "language_info": {
   "codemirror_mode": {
    "name": "ipython",
    "version": 3
   },
   "file_extension": ".py",
   "mimetype": "text/x-python",
   "name": "python",
   "nbconvert_exporter": "python",
   "pygments_lexer": "ipython3",
   "version": "3.8.5"
  }
 },
 "nbformat": 4,
 "nbformat_minor": 4
}
