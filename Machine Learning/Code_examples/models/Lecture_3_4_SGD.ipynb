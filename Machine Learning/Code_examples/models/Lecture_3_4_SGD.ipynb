{
 "cells": [
  {
   "cell_type": "markdown",
   "metadata": {},
   "source": [
    "# Define the SGD function "
   ]
  },
  {
   "cell_type": "code",
   "execution_count": 1,
   "metadata": {},
   "outputs": [],
   "source": [
    "import numpy as np\n",
    " \n",
    "class SGD:\n",
    "    def __init__(self, lr=0.01, max_iter=1000, batch_size=32, tol=1e-3):\n",
    "        # learning rate of the SGD Optimizer\n",
    "        self.learning_rate = lr\n",
    "        # maximum number of iterations for SGD Optimizer\n",
    "        self.max_iteration = max_iter\n",
    "        # mini-batch size of the data\n",
    "        self.batch_size = batch_size \n",
    "        # tolerance for convergence for the theta\n",
    "        self.tolerence_convergence  = tol \n",
    "        # Initialize model parameters to None\n",
    "        self.theta = None \n",
    "         \n",
    "    def fit(self, X, y):\n",
    "        # store dimension of input vector\n",
    "        n, d = X.shape\n",
    "        # Intialize random Theta for every feature\n",
    "        self.theta = np.random.randn(d)\n",
    "        for i in range(self.max_iteration):\n",
    "            # Shuffle the data\n",
    "            indices = np.random.permutation(n)\n",
    "            X = X[indices]\n",
    "            y = y[indices]\n",
    "            # Iterate over mini-batches\n",
    "            for i in range(0, n, self.batch_size):\n",
    "                X_batch = X[i:i+self.batch_size]\n",
    "                y_batch = y[i:i+self.batch_size]\n",
    "                grad = self.gradient(X_batch, y_batch)\n",
    "                self.theta -= self.learning_rate * grad\n",
    "            # Check for convergence\n",
    "            if np.linalg.norm(grad) < self.tolerence_convergence:\n",
    "                break\n",
    "    # define a gradient functon for calculating gradient\n",
    "    # of the data\n",
    "    def gradient(self, X, y):\n",
    "        n = len(y)\n",
    "        # predict target value by taking taking\n",
    "        # taking dot product of dependent and theta value\n",
    "        y_pred = np.dot(X, self.theta)\n",
    "         \n",
    "        # calculate error between predict and actual value\n",
    "        error = y_pred - y\n",
    "        grad = np.dot(X.T, error) / n\n",
    "        return grad\n",
    "     \n",
    "    def predict(self, X):\n",
    "        # prdict y value using calculated theta value\n",
    "        y_pred = np.dot(X, self.theta)\n",
    "        return y_pred"
   ]
  },
  {
   "cell_type": "markdown",
   "metadata": {},
   "source": [
    "# Demo with randomly generated data"
   ]
  },
  {
   "cell_type": "code",
   "execution_count": 2,
   "metadata": {},
   "outputs": [],
   "source": [
    "# Create random dataset with 100 rows and 5 columns\n",
    "X = np.random.randn(100, 5)\n",
    "# create corresponding target value by adding random\n",
    "# noise in the dataset\n",
    "y = np.dot(X, np.array([1, 2, 3, 4, 5]))\\\n",
    "    + np.random.randn(100) * 0.1\n",
    "# Create an instance of the SGD class\n",
    "model = SGD(lr=0.01, max_iter=1000,\n",
    "            batch_size=32, tol=1e-3)\n",
    "model.fit(X, y)\n",
    "# Predict using predict method from model\n",
    "y_pred = model.predict(X)"
   ]
  },
  {
   "cell_type": "code",
   "execution_count": 6,
   "metadata": {},
   "outputs": [
    {
     "name": "stdout",
     "output_type": "stream",
     "text": [
      "MSE : 0.10157100978048898\n"
     ]
    }
   ],
   "source": [
    "from sklearn.metrics import mean_squared_error\n",
    "mse = mean_squared_error(y, y_pred, squared=False)\n",
    "print('MSE :', mse)"
   ]
  },
  {
   "cell_type": "code",
   "execution_count": null,
   "metadata": {},
   "outputs": [],
   "source": []
  }
 ],
 "metadata": {
  "kernelspec": {
   "display_name": "Python 3 (ipykernel)",
   "language": "python",
   "name": "python3"
  },
  "language_info": {
   "codemirror_mode": {
    "name": "ipython",
    "version": 3
   },
   "file_extension": ".py",
   "mimetype": "text/x-python",
   "name": "python",
   "nbconvert_exporter": "python",
   "pygments_lexer": "ipython3",
   "version": "3.8.3"
  }
 },
 "nbformat": 4,
 "nbformat_minor": 4
}
