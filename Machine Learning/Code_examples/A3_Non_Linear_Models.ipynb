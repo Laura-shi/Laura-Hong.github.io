{
 "cells": [
  {
   "cell_type": "markdown",
   "metadata": {
    "id": "G0ej1Nhq6J4l"
   },
   "source": [
    "# Assignment 3: Non-Linear Models\n",
    "----\n",
    "\n",
    "In this assignment, we will create and evaluate non-linear models in  classifying data into two classes.\n",
    "\n",
    "First, we will need to import the following packages.\n",
    "\n",
    "                    from sklearn.datasets import make_regression, make_circles\n",
    "                    from matplotlib import pyplot as plt\n",
    "                    from sklearn.model_selection import train_test_split\n",
    "                    from sklearn.svm import SVC\n",
    "                    import numpy as np"
   ]
  },
  {
   "cell_type": "code",
   "execution_count": 1,
   "metadata": {},
   "outputs": [],
   "source": [
    "from sklearn.datasets import make_regression, make_circles\n",
    "from matplotlib import pyplot as plt\n",
    "from sklearn.model_selection import train_test_split\n",
    "from sklearn.svm import SVC\n",
    "import numpy as np\n",
    "import sklearn"
   ]
  },
  {
   "cell_type": "markdown",
   "metadata": {
    "id": "9YEGJRxyISg2"
   },
   "source": [
    "Next, we generate non-linear data in two classes. \n",
    "\n",
    "- Generate circular data of at least 100 examples using `make_circles` ([link](https://scikit-learn.org/stable/modules/generated/sklearn.datasets.make_circles.html)). Please save the generated data to `X` and `y`.\n",
    "\n",
    "- We will use `np.where()` to get the indices of positive (where `y==1`) and negative (where `y==0`) examples. \n",
    "\n",
    "                    pos_idx = np.where(y == 1)\n",
    "                    neg_idx = np.where(y == 0)\n",
    "                    \n",
    "- Use the following code to plot the data. \n",
    "\n",
    "                    fig, ax = plt.subplots(figsize=(10,7), dpi = 80)\n",
    "                    ax.scatter(X[pos_idx,0], X[pos_idx,1], color='red', label=\"positive examples\")\n",
    "                    ax.scatter(X[neg_idx,0], X[neg_idx,1], color='blue', label=\"negative examples\")\n",
    "                    ax.set_xlabel('x1')\n",
    "                    ax.set_ylabel('x2')\n",
    "                    ax.legend()\n",
    "                    plt.show()\n"
   ]
  },
  {
   "cell_type": "code",
   "execution_count": 2,
   "metadata": {},
   "outputs": [
    {
     "data": {
      "text/plain": [
       "(array([[-0.36503093, -0.76613441],\n",
       "        [ 0.79142545,  0.42486577],\n",
       "        [-0.62605489,  0.52993267],\n",
       "        [ 0.71938348, -0.59898403],\n",
       "        [ 0.87586276, -0.79693694],\n",
       "        [ 0.28238185, -0.8096356 ],\n",
       "        [-0.88398798,  0.19969581],\n",
       "        [-0.61452907, -0.4783401 ],\n",
       "        [ 0.35579647,  1.02466875],\n",
       "        [ 0.92202981, -0.08438964],\n",
       "        [-0.65247738,  0.67395748],\n",
       "        [-0.79396809, -0.59912738],\n",
       "        [-0.51151371,  0.09644282],\n",
       "        [-0.61403158, -0.80193362],\n",
       "        [ 0.33448411, -0.53212261],\n",
       "        [ 1.03859873,  0.56412698],\n",
       "        [-0.76438584, -0.01060355],\n",
       "        [-0.83589873, -0.2305685 ],\n",
       "        [-0.08545191,  0.97514198],\n",
       "        [-0.6327045 , -0.70551635],\n",
       "        [ 0.5698093 ,  0.43425039],\n",
       "        [ 0.12264074, -0.82399785],\n",
       "        [-0.90712258, -0.25646566],\n",
       "        [ 0.4487963 , -0.89499225],\n",
       "        [-0.71416997,  0.84200403],\n",
       "        [-0.41864357,  1.04254495],\n",
       "        [ 0.24241093, -1.00243527],\n",
       "        [ 0.73117762, -0.53125463],\n",
       "        [ 0.35950546,  0.89017977],\n",
       "        [-0.82842289,  0.21225071],\n",
       "        [ 0.29605402,  1.08278594],\n",
       "        [ 0.88559988, -0.37654106],\n",
       "        [-0.12351199, -0.9034931 ],\n",
       "        [-0.89597422, -0.17066743],\n",
       "        [ 0.70644267, -0.81040172],\n",
       "        [ 0.7327543 ,  0.60465119],\n",
       "        [-0.47281113,  0.65703697],\n",
       "        [-0.2609427 ,  0.90097737],\n",
       "        [-0.31355726, -0.92936284],\n",
       "        [-0.37453692,  0.95917592],\n",
       "        [ 0.99492465, -0.24504194],\n",
       "        [-0.34681201, -0.86167811],\n",
       "        [ 0.52774876,  0.70228309],\n",
       "        [ 0.73596476, -0.40967989],\n",
       "        [-1.04061296, -0.27568326],\n",
       "        [-0.74331485,  0.74624748],\n",
       "        [-0.45828083, -0.54107277],\n",
       "        [-0.88307924,  0.0873317 ],\n",
       "        [ 0.07079743,  0.65407305],\n",
       "        [-0.16556161,  1.07215079],\n",
       "        [-1.16316766,  0.13723108],\n",
       "        [ 1.02982505,  0.38336664],\n",
       "        [-0.59596652,  0.75966649],\n",
       "        [ 0.14440579, -0.950856  ],\n",
       "        [ 0.50727786,  0.95085717],\n",
       "        [-0.65842141, -0.11564026],\n",
       "        [ 0.78565803,  0.66809706],\n",
       "        [-0.16420415,  0.59237278],\n",
       "        [-0.17231541, -0.98385874],\n",
       "        [ 0.01689765, -0.78835856],\n",
       "        [ 0.71749172,  0.47418292],\n",
       "        [ 0.6977023 ,  0.01022623],\n",
       "        [ 0.76446937,  0.69151246],\n",
       "        [ 0.50556697, -0.69847452],\n",
       "        [ 0.83158909,  0.00592813],\n",
       "        [-0.33761021,  0.6724898 ],\n",
       "        [ 0.68266906, -0.56648943],\n",
       "        [-0.37349585,  0.73361348],\n",
       "        [ 0.11259313,  0.83618951],\n",
       "        [ 1.02221499, -0.29761832],\n",
       "        [-0.70220368, -0.36634307],\n",
       "        [ 0.48647686, -0.93971717],\n",
       "        [ 0.48927437,  0.48103938],\n",
       "        [ 1.00222304, -0.24362691],\n",
       "        [ 0.75312083, -0.24647764],\n",
       "        [ 0.44900185,  0.53505848],\n",
       "        [-1.03180682, -0.02680184],\n",
       "        [-0.52779101, -0.80405435],\n",
       "        [ 0.64668616, -0.65565777],\n",
       "        [ 0.21005368,  0.64878546],\n",
       "        [-0.1527824 ,  0.68011742],\n",
       "        [-0.29564603, -0.54596921],\n",
       "        [-0.12948486, -1.16720855],\n",
       "        [-0.81062695, -0.62534376],\n",
       "        [ 0.87378814,  0.1748328 ],\n",
       "        [ 0.75833557,  0.13023439],\n",
       "        [-0.86947155,  0.44081279],\n",
       "        [ 1.15753793,  0.18110941],\n",
       "        [-1.05992441,  0.20318657],\n",
       "        [-0.09150858, -0.73885702],\n",
       "        [ 0.14146965, -0.68125906],\n",
       "        [-0.84782031,  0.17794889],\n",
       "        [-0.15466942, -0.73396035],\n",
       "        [-0.54907937, -0.57260833],\n",
       "        [-0.64264002,  0.51386161],\n",
       "        [ 0.23649415,  0.71222348],\n",
       "        [-0.54174716,  0.34200878],\n",
       "        [-0.26065053,  0.92445956],\n",
       "        [ 0.4150897 , -0.75481284],\n",
       "        [ 0.75684676,  0.11598677]]),\n",
       " array([1, 1, 1, 0, 0, 0, 0, 1, 0, 0, 0, 0, 1, 0, 1, 0, 1, 1, 0, 0, 1, 1,\n",
       "        0, 0, 1, 0, 0, 1, 0, 1, 0, 0, 1, 0, 1, 0, 1, 1, 0, 0, 0, 0, 0, 1,\n",
       "        0, 0, 1, 0, 1, 0, 0, 0, 0, 0, 0, 1, 0, 1, 0, 1, 1, 1, 1, 0, 1, 1,\n",
       "        0, 1, 1, 1, 1, 0, 1, 0, 1, 1, 1, 0, 1, 1, 1, 1, 0, 0, 0, 1, 0, 0,\n",
       "        0, 1, 1, 1, 1, 1, 0, 1, 1, 0, 1, 1], dtype=int64))"
      ]
     },
     "execution_count": 2,
     "metadata": {},
     "output_type": "execute_result"
    }
   ],
   "source": [
    "data=sklearn.datasets.make_circles(n_samples=100,  shuffle=True, noise=0.1, random_state=42, factor=0.8)\n",
    "data"
   ]
  },
  {
   "cell_type": "code",
   "execution_count": 12,
   "metadata": {},
   "outputs": [
    {
     "name": "stdout",
     "output_type": "stream",
     "text": [
      "[[-0.36503093 -0.76613441]\n",
      " [ 0.79142545  0.42486577]\n",
      " [-0.62605489  0.52993267]\n",
      " [ 0.71938348 -0.59898403]\n",
      " [ 0.87586276 -0.79693694]\n",
      " [ 0.28238185 -0.8096356 ]\n",
      " [-0.88398798  0.19969581]\n",
      " [-0.61452907 -0.4783401 ]\n",
      " [ 0.35579647  1.02466875]\n",
      " [ 0.92202981 -0.08438964]\n",
      " [-0.65247738  0.67395748]\n",
      " [-0.79396809 -0.59912738]\n",
      " [-0.51151371  0.09644282]\n",
      " [-0.61403158 -0.80193362]\n",
      " [ 0.33448411 -0.53212261]\n",
      " [ 1.03859873  0.56412698]\n",
      " [-0.76438584 -0.01060355]\n",
      " [-0.83589873 -0.2305685 ]\n",
      " [-0.08545191  0.97514198]\n",
      " [-0.6327045  -0.70551635]\n",
      " [ 0.5698093   0.43425039]\n",
      " [ 0.12264074 -0.82399785]\n",
      " [-0.90712258 -0.25646566]\n",
      " [ 0.4487963  -0.89499225]\n",
      " [-0.71416997  0.84200403]\n",
      " [-0.41864357  1.04254495]\n",
      " [ 0.24241093 -1.00243527]\n",
      " [ 0.73117762 -0.53125463]\n",
      " [ 0.35950546  0.89017977]\n",
      " [-0.82842289  0.21225071]\n",
      " [ 0.29605402  1.08278594]\n",
      " [ 0.88559988 -0.37654106]\n",
      " [-0.12351199 -0.9034931 ]\n",
      " [-0.89597422 -0.17066743]\n",
      " [ 0.70644267 -0.81040172]\n",
      " [ 0.7327543   0.60465119]\n",
      " [-0.47281113  0.65703697]\n",
      " [-0.2609427   0.90097737]\n",
      " [-0.31355726 -0.92936284]\n",
      " [-0.37453692  0.95917592]\n",
      " [ 0.99492465 -0.24504194]\n",
      " [-0.34681201 -0.86167811]\n",
      " [ 0.52774876  0.70228309]\n",
      " [ 0.73596476 -0.40967989]\n",
      " [-1.04061296 -0.27568326]\n",
      " [-0.74331485  0.74624748]\n",
      " [-0.45828083 -0.54107277]\n",
      " [-0.88307924  0.0873317 ]\n",
      " [ 0.07079743  0.65407305]\n",
      " [-0.16556161  1.07215079]\n",
      " [-1.16316766  0.13723108]\n",
      " [ 1.02982505  0.38336664]\n",
      " [-0.59596652  0.75966649]\n",
      " [ 0.14440579 -0.950856  ]\n",
      " [ 0.50727786  0.95085717]\n",
      " [-0.65842141 -0.11564026]\n",
      " [ 0.78565803  0.66809706]\n",
      " [-0.16420415  0.59237278]\n",
      " [-0.17231541 -0.98385874]\n",
      " [ 0.01689765 -0.78835856]\n",
      " [ 0.71749172  0.47418292]\n",
      " [ 0.6977023   0.01022623]\n",
      " [ 0.76446937  0.69151246]\n",
      " [ 0.50556697 -0.69847452]\n",
      " [ 0.83158909  0.00592813]\n",
      " [-0.33761021  0.6724898 ]\n",
      " [ 0.68266906 -0.56648943]\n",
      " [-0.37349585  0.73361348]\n",
      " [ 0.11259313  0.83618951]\n",
      " [ 1.02221499 -0.29761832]\n",
      " [-0.70220368 -0.36634307]\n",
      " [ 0.48647686 -0.93971717]\n",
      " [ 0.48927437  0.48103938]\n",
      " [ 1.00222304 -0.24362691]\n",
      " [ 0.75312083 -0.24647764]\n",
      " [ 0.44900185  0.53505848]\n",
      " [-1.03180682 -0.02680184]\n",
      " [-0.52779101 -0.80405435]\n",
      " [ 0.64668616 -0.65565777]\n",
      " [ 0.21005368  0.64878546]\n",
      " [-0.1527824   0.68011742]\n",
      " [-0.29564603 -0.54596921]\n",
      " [-0.12948486 -1.16720855]\n",
      " [-0.81062695 -0.62534376]\n",
      " [ 0.87378814  0.1748328 ]\n",
      " [ 0.75833557  0.13023439]\n",
      " [-0.86947155  0.44081279]\n",
      " [ 1.15753793  0.18110941]\n",
      " [-1.05992441  0.20318657]\n",
      " [-0.09150858 -0.73885702]\n",
      " [ 0.14146965 -0.68125906]\n",
      " [-0.84782031  0.17794889]\n",
      " [-0.15466942 -0.73396035]\n",
      " [-0.54907937 -0.57260833]\n",
      " [-0.64264002  0.51386161]\n",
      " [ 0.23649415  0.71222348]\n",
      " [-0.54174716  0.34200878]\n",
      " [-0.26065053  0.92445956]\n",
      " [ 0.4150897  -0.75481284]\n",
      " [ 0.75684676  0.11598677]]\n",
      "[1 1 1 0 0 0 0 1 0 0 0 0 1 0 1 0 1 1 0 0 1 1 0 0 1 0 0 1 0 1 0 0 1 0 1 0 1\n",
      " 1 0 0 0 0 0 1 0 0 1 0 1 0 0 0 0 0 0 1 0 1 0 1 1 1 1 0 1 1 0 1 1 1 1 0 1 0\n",
      " 1 1 1 0 1 1 1 1 0 0 0 1 0 0 0 1 1 1 1 1 0 1 1 0 1 1]\n"
     ]
    }
   ],
   "source": [
    "X,y=data\n",
    "print(X)\n",
    "print(y)"
   ]
  },
  {
   "cell_type": "code",
   "execution_count": 4,
   "metadata": {},
   "outputs": [],
   "source": [
    "pos_idx = np.where(y == 1)\n",
    "neg_idx = np.where(y == 0)"
   ]
  },
  {
   "cell_type": "code",
   "execution_count": 5,
   "metadata": {},
   "outputs": [
    {
     "data": {
      "image/png": "[encoded data removed]",
      "text/plain": [
       "<Figure size 800x560 with 1 Axes>"
      ]
     },
     "metadata": {
      "needs_background": "light"
     },
     "output_type": "display_data"
    }
   ],
   "source": [
    "fig, ax = plt.subplots(figsize=(10,7), dpi = 80)\n",
    "ax.scatter(X[pos_idx,0], X[pos_idx,1], color='red', label=\"positive examples\")\n",
    "ax.scatter(X[neg_idx,0], X[neg_idx,1], color='blue', label=\"negative examples\")\n",
    "ax.set_xlabel('x1')\n",
    "ax.set_ylabel('x2')\n",
    "ax.legend()\n",
    "plt.show()"
   ]
  },
  {
   "cell_type": "markdown",
   "metadata": {
    "id": "Dt-iM8B-IIME"
   },
   "source": [
    "\n",
    "- Split the data into 80% for training and 20% for testing. Save the data in following variables: `X_train`, `X_test`, `y_train`, `y_test`.\n",
    "- Use `SVC` ([link](https://scikit-learn.org/stable/modules/generated/sklearn.svm.SVC.html)) to create three classifiers using `linear`, `polynomial`, and `RBF` kernels, named `model_linear`, `model_poly`, `model_rbf`, respectively.\n",
    "- Train these classifiers on the training set using the `fit()` method.\n",
    "\n"
   ]
  },
  {
   "cell_type": "markdown",
   "metadata": {
    "id": "h_t93BwgKAh6"
   },
   "source": [
    "- Test the trained classifiers and compare their performances using the following code. What do you find? \n",
    "                    print(model_rbf.score(X_test, y_test))\n",
    "                    print(model_linear.score(X_test, y_test))\n",
    "                    print(model_poly.score(X_test, y_test)) "
   ]
  },
  {
   "cell_type": "code",
   "execution_count": 6,
   "metadata": {},
   "outputs": [],
   "source": [
    "X_train, X_test, y_train, y_test=train_test_split(X, y, test_size=0.2, shuffle=True, random_state=42)"
   ]
  },
  {
   "cell_type": "code",
   "execution_count": 7,
   "metadata": {},
   "outputs": [
    {
     "data": {
      "text/plain": [
       "SVC(kernel='linear', random_state=42)"
      ]
     },
     "execution_count": 7,
     "metadata": {},
     "output_type": "execute_result"
    }
   ],
   "source": [
    "model_linear=sklearn.svm.SVC(  kernel='linear',random_state=42)\n",
    "model_linear.fit(X_train,y_train)"
   ]
  },
  {
   "cell_type": "code",
   "execution_count": 8,
   "metadata": {},
   "outputs": [
    {
     "data": {
      "text/plain": [
       "SVC(degree=5, kernel='poly', random_state=42)"
      ]
     },
     "execution_count": 8,
     "metadata": {},
     "output_type": "execute_result"
    }
   ],
   "source": [
    "model_poly=sklearn.svm.SVC(kernel='poly',degree=5,random_state=42)\n",
    "model_poly.fit(X_train,y_train)"
   ]
  },
  {
   "cell_type": "code",
   "execution_count": 9,
   "metadata": {},
   "outputs": [
    {
     "data": {
      "text/plain": [
       "SVC(random_state=42)"
      ]
     },
     "execution_count": 9,
     "metadata": {},
     "output_type": "execute_result"
    }
   ],
   "source": [
    "model_rbf=sklearn.svm.SVC(C=1.0, kernel='rbf',random_state=42)\n",
    "model_rbf.fit(X_train,y_train)"
   ]
  },
  {
   "cell_type": "code",
   "execution_count": 10,
   "metadata": {
    "scrolled": true
   },
   "outputs": [
    {
     "name": "stdout",
     "output_type": "stream",
     "text": [
      "0.75\n",
      "0.3\n",
      "0.3\n"
     ]
    }
   ],
   "source": [
    "print(model_rbf.score(X_test, y_test))\n",
    "print(model_linear.score(X_test, y_test))\n",
    "print(model_poly.score(X_test, y_test))"
   ]
  },
  {
   "cell_type": "code",
   "execution_count": null,
   "metadata": {},
   "outputs": [],
   "source": []
  }
 ],
 "metadata": {
  "colab": {
   "provenance": []
  },
  "kernelspec": {
   "display_name": "Python 3 (ipykernel)",
   "language": "python",
   "name": "python3"
  },
  "language_info": {
   "codemirror_mode": {
    "name": "ipython",
    "version": 3
   },
   "file_extension": ".py",
   "mimetype": "text/x-python",
   "name": "python",
   "nbconvert_exporter": "python",
   "pygments_lexer": "ipython3",
   "version": "3.9.12"
  }
 },
 "nbformat": 4,
 "nbformat_minor": 1
}
