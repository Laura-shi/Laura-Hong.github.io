{
 "cells": [
  {
   "cell_type": "markdown",
   "metadata": {
    "id": "4OHtokTRIjBW"
   },
   "source": [
    "# Assignment 8: Autoencoders and Variational Autoencoders (Solution)\n",
    "\n",
    "Autoencoders (AEs) are neural networks that aim to reconstruct their inputs by first compressing them into a lower-dimensional representation, and then decompressing them back to the original form. Variational Autoencoders (VAEs) are a type of generative model that extends AEs by introducing a probabilistic approach to the encoding process. You can learn more about AEs and VAEs from [Lilian Weng's blog](https://lilianweng.github.io/posts/2018-08-12-vae/) and Jeremy Jordan’s blog about understanding [Autoencoders](https://www.jeremyjordan.me/autoencoders/) and [Variational Autoencoders](https://www.jeremyjordan.me/variational-autoencoders/#:~:text=A%20variational%20autoencoder%20(VAE)%20providesdistribution%20for%20each%20latent%20attribute.)."
   ]
  },
  {
   "cell_type": "markdown",
   "metadata": {
    "id": "2O9GziK5jVW_"
   },
   "source": [
    "First, let's install the necessary pip dependencies and download some necessary files"
   ]
  },
  {
   "cell_type": "code",
   "execution_count": 2,
   "metadata": {
    "colab": {
     "base_uri": "https://localhost:8080/"
    },
    "executionInfo": {
     "elapsed": 4037,
     "status": "ok",
     "timestamp": 1679528632794,
     "user": {
      "displayName": "Michael “Michael” Villarreal",
      "userId": "12598620506100447951"
     },
     "user_tz": 300
    },
    "id": "zhIMa9AfjZ9c",
    "outputId": "25b31454-9505-4863-94a0-5f4226425d77"
   },
   "outputs": [
    {
     "name": "stderr",
     "output_type": "stream",
     "text": [
      "'wget' is not recognized as an internal or external command,\n",
      "operable program or batch file.\n",
      "'wget' is not recognized as an internal or external command,\n",
      "operable program or batch file.\n"
     ]
    }
   ],
   "source": [
    "!pip install torch==1.13.1 torchvision==0.14.1 pytorch-lightning==1.9.4 numpy==1.21.6 tqdm==4.65.0 matplotlib==3.5.3 tensorboard==2.11.2 --quiet\n",
    "!wget https://raw.githubusercontent.com/tmvllrrl/Assignments/main/Autoencoders/dae.py\n",
    "!wget https://raw.githubusercontent.com/tmvllrrl/Assignments/main/Autoencoders/vae.py"
   ]
  },
  {
   "cell_type": "markdown",
   "metadata": {
    "id": "hzFMRbCDIjBe"
   },
   "source": [
    "### Exercise 1: Denoising Autoencoders\n",
    "---\n",
    "\n",
    "In this exercise, we are going to create an encoder and decoder that will be used in a denoising autoencoder. Then, we will denoise some images.\n",
    "\n",
    "- Use the following code to import the necessary packages and install any pip dependencies:\n",
    "                        \n",
    "        from dae import DenoisingAutoEncoder, train_dae, add_noise\n",
    "        from vae import VariationalAutoEncoder, train_vae\n",
    "\n",
    "        import os\n",
    "        import random\n",
    "        import numpy as np\n",
    "        import matplotlib.pyplot as plt\n",
    "\n",
    "        import torch\n",
    "        from torch import nn\n",
    "        import torch.nn.functional as F\n",
    "        from torchvision import transforms\n",
    "        from torchvision.datasets import MNIST, CIFAR10\n",
    "        from torch.utils.data import DataLoader\n",
    "\n",
    "        from pytorch_lightning import seed_everything\n",
    "        seed_everything(42, workers=True) # Seeds random, numpy random, and pytorch, which is important for reproducibility\n",
    "\n",
    "        to_img = transforms.ToPILImage() # Utility function that is used later in the lab\n"
   ]
  },
  {
   "cell_type": "code",
   "execution_count": 3,
   "metadata": {
    "colab": {
     "base_uri": "https://localhost:8080/"
    },
    "executionInfo": {
     "elapsed": 127,
     "status": "ok",
     "timestamp": 1679528946998,
     "user": {
      "displayName": "Michael “Michael” Villarreal",
      "userId": "12598620506100447951"
     },
     "user_tz": 300
    },
    "id": "HTq_z6IhJf7R",
    "outputId": "52a3dbf4-abd7-43f1-f5f2-444b2ee3de67"
   },
   "outputs": [
    {
     "ename": "ModuleNotFoundError",
     "evalue": "No module named 'dae'",
     "output_type": "error",
     "traceback": [
      "\u001b[1;31m---------------------------------------------------------------------------\u001b[0m",
      "\u001b[1;31mModuleNotFoundError\u001b[0m                       Traceback (most recent call last)",
      "Input \u001b[1;32mIn [3]\u001b[0m, in \u001b[0;36m<cell line: 1>\u001b[1;34m()\u001b[0m\n\u001b[1;32m----> 1\u001b[0m \u001b[38;5;28;01mfrom\u001b[39;00m \u001b[38;5;21;01mdae\u001b[39;00m \u001b[38;5;28;01mimport\u001b[39;00m DenoisingAutoEncoder, train_dae, add_noise\n\u001b[0;32m      2\u001b[0m \u001b[38;5;28;01mfrom\u001b[39;00m \u001b[38;5;21;01mvae\u001b[39;00m \u001b[38;5;28;01mimport\u001b[39;00m VariationalAutoEncoder, train_vae\n\u001b[0;32m      4\u001b[0m \u001b[38;5;28;01mimport\u001b[39;00m \u001b[38;5;21;01mos\u001b[39;00m\n",
      "\u001b[1;31mModuleNotFoundError\u001b[0m: No module named 'dae'"
     ]
    }
   ],
   "source": [
    "from dae import DenoisingAutoEncoder, train_dae, add_noise\n",
    "from vae import VariationalAutoEncoder, train_vae\n",
    "\n",
    "import os\n",
    "import random\n",
    "import numpy as np\n",
    "import matplotlib.pyplot as plt\n",
    "\n",
    "import torch\n",
    "from torch import nn\n",
    "import torch.nn.functional as F\n",
    "from torchvision import transforms\n",
    "from torchvision.datasets import MNIST, CIFAR10\n",
    "from torch.utils.data import DataLoader\n",
    "\n",
    "from pytorch_lightning import seed_everything\n",
    "seed_everything(42, workers=True) # Seeds random, numpy random, and pytorch, which is important for reproducibility\n",
    "\n",
    "to_img = transforms.ToPILImage() # Utility function that is used later in the lab"
   ]
  },
  {
   "cell_type": "markdown",
   "metadata": {
    "id": "gh-76dm1jtOb"
   },
   "source": [
    "- Next, let's load the dataset using the following code:\n",
    "\n",
    "        cifar10_train = CIFAR10(os.getcwd(), train=True, download=True, transform=transforms.ToTensor())\n",
    "        cifar10_train = torch.utils.data.Subset(cifar10_train, range(5000)) \n",
    "\n",
    "        cifar10_test = CIFAR10(os.getcwd(), train=False, download=True, transform=transforms.ToTensor())\n",
    "        cifar10_test = torch.utils.data.Subset(cifar10_test, range(1000))\n",
    "\n",
    "- Now, you are going to create 2 data loaders using `cifar10_train` and `cifar10_test` using the `Dataloader` class. The data loader for `cifar10_train` should be named `train_loader`, have a batch_size of `128`, shuffle should be `True`, and num_workers should be `2`. The data loader for `cifar10_test` should be the exact same except named `test_loader`.  \n",
    "\n",
    "    Relevant Links:\n",
    "    - [Dataloader API](https://pytorch.org/docs/stable/data.html)"
   ]
  },
  {
   "cell_type": "code",
   "execution_count": 5,
   "metadata": {
    "id": "EY699jTDIjBb"
   },
   "outputs": [
    {
     "ename": "NameError",
     "evalue": "name 'CIFAR10' is not defined",
     "output_type": "error",
     "traceback": [
      "\u001b[1;31m---------------------------------------------------------------------------\u001b[0m",
      "\u001b[1;31mNameError\u001b[0m                                 Traceback (most recent call last)",
      "Input \u001b[1;32mIn [5]\u001b[0m, in \u001b[0;36m<cell line: 1>\u001b[1;34m()\u001b[0m\n\u001b[1;32m----> 1\u001b[0m cifar10_train \u001b[38;5;241m=\u001b[39m \u001b[43mCIFAR10\u001b[49m(os\u001b[38;5;241m.\u001b[39mgetcwd(), train\u001b[38;5;241m=\u001b[39m\u001b[38;5;28;01mTrue\u001b[39;00m, download\u001b[38;5;241m=\u001b[39m\u001b[38;5;28;01mTrue\u001b[39;00m, transform\u001b[38;5;241m=\u001b[39mtransforms\u001b[38;5;241m.\u001b[39mToTensor())\n\u001b[0;32m      2\u001b[0m cifar10_train \u001b[38;5;241m=\u001b[39m torch\u001b[38;5;241m.\u001b[39mutils\u001b[38;5;241m.\u001b[39mdata\u001b[38;5;241m.\u001b[39mSubset(cifar10_train, \u001b[38;5;28mrange\u001b[39m(\u001b[38;5;241m5000\u001b[39m)) \n\u001b[0;32m      4\u001b[0m cifar10_test \u001b[38;5;241m=\u001b[39m CIFAR10(os\u001b[38;5;241m.\u001b[39mgetcwd(), train\u001b[38;5;241m=\u001b[39m\u001b[38;5;28;01mFalse\u001b[39;00m, download\u001b[38;5;241m=\u001b[39m\u001b[38;5;28;01mTrue\u001b[39;00m, transform\u001b[38;5;241m=\u001b[39mtransforms\u001b[38;5;241m.\u001b[39mToTensor())\n",
      "\u001b[1;31mNameError\u001b[0m: name 'CIFAR10' is not defined"
     ]
    }
   ],
   "source": [
    "cifar10_train = CIFAR10(os.getcwd(), train=True, download=True, transform=transforms.ToTensor())\n",
    "cifar10_train = torch.utils.data.Subset(cifar10_train, range(5000)) \n",
    "\n",
    "cifar10_test = CIFAR10(os.getcwd(), train=False, download=True, transform=transforms.ToTensor())\n",
    "cifar10_test = torch.utils.data.Subset(cifar10_test, range(1000))\n",
    "\n",
    "train_loader = DataLoader(cifar10_train, batch_size=128, shuffle=True, num_workers=2) \n",
    "test_loader = DataLoader(cifar10_test, batch_size=128, shuffle=False, num_workers=2)"
   ]
  },
  {
   "cell_type": "markdown",
   "metadata": {
    "id": "nWbxm60RIjBb"
   },
   "source": [
    "- Use the following code to visualize the images from the CIFAR10 dataset and what they would look like with noise:\n",
    "\n",
    "        fig, ax = plt.subplots(2,5,figsize = (12,6), dpi = 80)\n",
    "        for i, batch in enumerate(train_loader):\n",
    "            x, y = batch\n",
    "            img = to_img(x[0])\n",
    "            ax[0,i].imshow(img)\n",
    "            \n",
    "            noise_x = add_noise(x[0])\n",
    "            noise_img = to_img(noise_x)\n",
    "            ax[1, i].imshow(noise_img)\n",
    "            \n",
    "            if i==4:\n",
    "                break"
   ]
  },
  {
   "cell_type": "code",
   "execution_count": 4,
   "metadata": {
    "id": "MXxjGSkAIjBc"
   },
   "outputs": [
    {
     "ename": "NameError",
     "evalue": "name 'plt' is not defined",
     "output_type": "error",
     "traceback": [
      "\u001b[1;31m---------------------------------------------------------------------------\u001b[0m",
      "\u001b[1;31mNameError\u001b[0m                                 Traceback (most recent call last)",
      "Input \u001b[1;32mIn [4]\u001b[0m, in \u001b[0;36m<cell line: 1>\u001b[1;34m()\u001b[0m\n\u001b[1;32m----> 1\u001b[0m fig, ax \u001b[38;5;241m=\u001b[39m \u001b[43mplt\u001b[49m\u001b[38;5;241m.\u001b[39msubplots(\u001b[38;5;241m2\u001b[39m,\u001b[38;5;241m5\u001b[39m,figsize \u001b[38;5;241m=\u001b[39m (\u001b[38;5;241m12\u001b[39m,\u001b[38;5;241m6\u001b[39m), dpi \u001b[38;5;241m=\u001b[39m \u001b[38;5;241m80\u001b[39m)\n\u001b[0;32m      2\u001b[0m \u001b[38;5;28;01mfor\u001b[39;00m i, batch \u001b[38;5;129;01min\u001b[39;00m \u001b[38;5;28menumerate\u001b[39m(train_loader):\n\u001b[0;32m      3\u001b[0m     x, y \u001b[38;5;241m=\u001b[39m batch\n",
      "\u001b[1;31mNameError\u001b[0m: name 'plt' is not defined"
     ]
    }
   ],
   "source": [
    "fig, ax = plt.subplots(2,5,figsize = (12,6), dpi = 80)\n",
    "for i, batch in enumerate(train_loader):\n",
    "    x, y = batch\n",
    "    img = to_img(x[0])\n",
    "    ax[0,i].imshow(img)\n",
    "    \n",
    "    noise_x = add_noise(x[0])\n",
    "    noise_img = to_img(noise_x)\n",
    "    ax[1, i].imshow(noise_img)\n",
    "    \n",
    "    if i==4:\n",
    "        break"
   ]
  },
  {
   "cell_type": "markdown",
   "metadata": {
    "id": "fZAimV7bIjBc"
   },
   "source": [
    "- Next, we are going to finish the `Encoder` of the denoising autoencoder. Some boilerplate code has been provided for you. You are to fill in the rest of `self.encoder` following the sequence below (some of the layers have been done for you).\n",
    "\n",
    "    The layers of the encoder are as follows (in order):\n",
    "    1. A Conv2d layer with `3` in channels, `16` out channels, a kernel size of `3`, and padding of size `1`\n",
    "    2. A ReLU activation layer\n",
    "    3. A MaxPool2d layer with kernel size `2` with a stride of `2`\n",
    "    4. A Conv2d layer with `16` in channels, `4` out channels, a kernel size of `3`, and padding of size `1`\n",
    "    5. A ReLU activation layer\n",
    "    6. A MaxPool2d layer with kernel size `2` with a stride of `2`\n",
    "\n",
    "    Relevant Links:\n",
    "    - [Sequential API](https://pytorch.org/docs/stable/generated/torch.nn.Sequential.html#torch.nn.Sequential)\n",
    "    - [Conv2d API](https://pytorch.org/docs/stable/generated/torch.nn.Conv2d.html#torch.nn.Conv2d)\n",
    "    - [ReLU API](https://pytorch.org/docs/stable/generated/torch.nn.ReLU.html#torch.nn.ReLU)\n",
    "    - [MaxPool2d API](https://pytorch.org/docs/stable/generated/torch.nn.MaxPool2d.html#torch.nn.MaxPool2d)"
   ]
  },
  {
   "cell_type": "code",
   "execution_count": null,
   "metadata": {
    "id": "u9B4vFnFIjBc"
   },
   "outputs": [],
   "source": [
    "class Encoder(nn.Module):\n",
    "    def __init__(self):\n",
    "        super().__init__()\n",
    "        \n",
    "        self.encoder = nn.Sequential(\n",
    "            nn.Conv2d(3, 16, 3, padding=1),\n",
    "            nn.ReLU(),\n",
    "            nn.MaxPool2d(2,2),\n",
    "            nn.Conv2d(16,4,3, padding=1),\n",
    "            nn.ReLU(),\n",
    "            nn.MaxPool2d(2,2)\n",
    "        )\n",
    "        \n",
    "    def forward(self, x):\n",
    "        return self.encoder(x)"
   ]
  },
  {
   "cell_type": "markdown",
   "metadata": {
    "id": "W-fwNWHmIjBc"
   },
   "source": [
    "- Now you are going to finish out the `Decoder`. Complete `self.decoder` using the list of layers below:\n",
    "    1. A ConvTranspose2d layer with `4` in channels, `16` out channels, and a stride of `2`\n",
    "    2. A ReLU activation layer\n",
    "    3. A ConvTranspose2d layer with `16` in channels, `3` out channels, and a stride of `2`\n",
    "    4. A Sigmoid activation layer\n",
    "\n",
    "    Relevant Links:\n",
    "    - [ConvTranspose2D API](https://pytorch.org/docs/stable/generated/torch.nn.ConvTranspose2d.html#torch.nn.ConvTranspose2d)\n",
    "    - [Sigmoid API](https://pytorch.org/docs/stable/generated/torch.nn.Sigmoid.html#torch.nn.Sigmoid)"
   ]
  },
  {
   "cell_type": "code",
   "execution_count": null,
   "metadata": {
    "id": "IsN5sHvwIjBd"
   },
   "outputs": [],
   "source": [
    "class Decoder(nn.Module):\n",
    "    def __init__(self):\n",
    "        super().__init__()\n",
    "        \n",
    "        self.decoder = nn.Sequential(\n",
    "            nn.ConvTranspose2d(4, 16, 2, stride=2),\n",
    "            nn.ReLU(),\n",
    "            nn.ConvTranspose2d(16, 3, 2, stride=2),\n",
    "            nn.Sigmoid()\n",
    "        )\n",
    "        \n",
    "    def forward(self, x):\n",
    "        return self.decoder(x)"
   ]
  },
  {
   "cell_type": "markdown",
   "metadata": {
    "id": "_l_yQFi5IjBd"
   },
   "source": [
    "- Now, let's train the denoising autoencoder! We make use of earlier imports and pass the created `Encoder` and `Decoder` classes to the model. The training should take around 5 minutes."
   ]
  },
  {
   "cell_type": "code",
   "execution_count": null,
   "metadata": {
    "id": "KxRNxNNJIjBd",
    "scrolled": true
   },
   "outputs": [],
   "source": [
    "dae = DenoisingAutoEncoder(Encoder(), Decoder())\n",
    "\n",
    "# Utility function that trains the dae using the CIFAR10 data loader\n",
    "train_dae(dae=dae, train_loader=train_loader)"
   ]
  },
  {
   "cell_type": "markdown",
   "metadata": {
    "id": "5-0luk6GIjBf"
   },
   "source": [
    "- Finally, use the following code to visualize denoising some noisy images:\n",
    "\n",
    "        fig, ax = plt.subplots(3,5,figsize = (12,8), dpi = 80)\n",
    "        for i, batch in enumerate(test_loader):\n",
    "            x, y = batch\n",
    "            img = to_img(x[0])\n",
    "            ax[0,i].imshow(img)\n",
    "            \n",
    "            noise_x = add_noise(x[0])\n",
    "            noise_img = to_img(noise_x)\n",
    "            ax[1, i].imshow(noise_img)\n",
    "            \n",
    "            denoised_x = dae(x)\n",
    "            denoised_img = to_img(denoised_x[0])\n",
    "            ax[2, i].imshow(denoised_img)\n",
    "            \n",
    "            if i==4:\n",
    "                break"
   ]
  },
  {
   "cell_type": "code",
   "execution_count": null,
   "metadata": {
    "id": "xVBqPOIVIjBf"
   },
   "outputs": [],
   "source": [
    "fig, ax = plt.subplots(3,5,figsize = (12,8), dpi = 80)\n",
    "for i, batch in enumerate(test_loader):\n",
    "    x, y = batch\n",
    "    img = to_img(x[0])\n",
    "    ax[0,i].imshow(img)\n",
    "    \n",
    "    noise_x = add_noise(x[0])\n",
    "    noise_img = to_img(noise_x)\n",
    "    ax[1, i].imshow(noise_img)\n",
    "    \n",
    "    denoised_x = dae(x)\n",
    "    denoised_img = to_img(denoised_x[0])\n",
    "    ax[2, i].imshow(denoised_img)\n",
    "    \n",
    "    if i==4:\n",
    "        break"
   ]
  },
  {
   "cell_type": "markdown",
   "metadata": {
    "id": "1FFIjGNEIjBf"
   },
   "source": [
    "### Exercise 2: VAEs (Variational Autoencoders)\n",
    "---\n",
    "In this exercise, we will train a variational autoencoder and create a fake number with it.\n",
    "\n",
    "- First, let's load the MNIST dataset using the following code. \n",
    "\n",
    "        # For this exercise, we are only concerned with the train split of MNIST\n",
    "        mnist_train = MNIST(os.getcwd(), train=True, download=True, transform=transforms.toTensor())\n",
    "\n",
    "- Define a data loader for `mnist_train` and store it in `mnist_loader`. The data loader should take in `mnist_train`, have a batch_size of `128`, shuffle should be `True`, and num_workers should be `2`. \n",
    "\n",
    "    Relevant Links:\n",
    "    - [Dataloader API](https://pytorch.org/docs/stable/data.html)"
   ]
  },
  {
   "cell_type": "code",
   "execution_count": 6,
   "metadata": {
    "colab": {
     "base_uri": "https://localhost:8080/",
     "height": 423,
     "referenced_widgets": [
      "ecb4da6e2816465885234081b0f4ad49",
      "de08af4f0ca04cf7ae55258e2b8f8ef2",
      "d037917ecaa840dc8a764fd6c485e1fb",
      "4c111ac3f51447a2a719000cf0f56cb2",
      "11a52fe8010d4604836dd543791405d5",
      "75ef3eb1e4fb459e89bd0fb02113507c",
      "4a80080ae1cb46c384bfc6d4b05f5057",
      "3098c9be783a417ba4d564f5ebea9f51",
      "0363d60753be40948039b32f60f0dbe5",
      "149a16a1afe54a83a1ca34ffdfd5f3a9",
      "6959cd768af44cdb8d4ab64d1aa5fd20",
      "ac50de04157e4f9180a28a7e93509ee6",
      "6e71ed09e05045a8ad6b12fd7942ddf4",
      "130e2ddcdaf043649e4e5f5d5413ee01",
      "bf600455b9764392ba4812e57bbe2688",
      "3480548c7e00423fb404e639eb29834f",
      "78f4216f85b14ecbab574440963af83e",
      "00f1a0d0ecea43aa9e09c36ee2ef645e",
      "91576b2b091d4abeb2ccb6be1ecb5e55",
      "96a6e48aaf66450fac6c7505c73f2baf",
      "f0bc92271f5c425396fa1b6bc510c629",
      "1daba88c299e4c63af305dfe7f4deb25",
      "5a6b2ec68a7f4981a198ff87f08456c7",
      "890ab8aefcbf4e4197539a6071be9c8c",
      "1e681c7ab3864db5b1ea3c297b26d798",
      "f602d2dbcfff4738bc4f91b05f5c311f",
      "e38211475bb0421abb86c428710cfd04",
      "2368015d6dfa465daed48c373bd930ae",
      "0c6bb8d605da4bfc9961d2f36a95b0c4",
      "5025921db5764e9c91298ba7ad11aa47",
      "4f28292ddc3c44d9b3f578b115e59795",
      "8d0ba586593643a08146853a7bc40f54",
      "3fff6842fcde455e93433c421d7a95ba",
      "3573982c97b54f4ab1f51f6b74cbeaf2",
      "71a400c2dfe049359c7616abce373795",
      "d0e5cdaa78b547e98abc5a9b33e272c6",
      "3b1efe8bd0ed423593dedacb80870a98",
      "4d92926f61ce47f78dd30549e413066f",
      "99945671e0f945fb95e8bc1bce2a2d1b",
      "0914ab48da964266acadae25b6b772d3",
      "869f5c338db4488abaf86fa30e75b206",
      "46a57371a45b4a86944f209e8124fecc",
      "5afd4a1de6c84d999c2d04df496d5829",
      "9abb583dc1bd4661857049ffd6d2cb01"
     ]
    },
    "executionInfo": {
     "elapsed": 1558,
     "status": "ok",
     "timestamp": 1679528674285,
     "user": {
      "displayName": "Michael “Michael” Villarreal",
      "userId": "12598620506100447951"
     },
     "user_tz": 300
    },
    "id": "F-80zHpwIjBf",
    "outputId": "9d1c2270-67fd-4bd7-e8db-9903beac9c62"
   },
   "outputs": [
    {
     "name": "stdout",
     "output_type": "stream",
     "text": [
      "Downloading http://yann.lecun.com/exdb/mnist/train-images-idx3-ubyte.gz\n",
      "Downloading http://yann.lecun.com/exdb/mnist/train-images-idx3-ubyte.gz to /content/MNIST/raw/train-images-idx3-ubyte.gz\n"
     ]
    },
    {
     "data": {
      "application/vnd.jupyter.widget-view+json": {
       "model_id": "ecb4da6e2816465885234081b0f4ad49",
       "version_major": 2,
       "version_minor": 0
      },
      "text/plain": [
       "  0%|          | 0/9912422 [00:00<?, ?it/s]"
      ]
     },
     "metadata": {},
     "output_type": "display_data"
    },
    {
     "name": "stdout",
     "output_type": "stream",
     "text": [
      "Extracting /content/MNIST/raw/train-images-idx3-ubyte.gz to /content/MNIST/raw\n",
      "\n",
      "Downloading http://yann.lecun.com/exdb/mnist/train-labels-idx1-ubyte.gz\n",
      "Downloading http://yann.lecun.com/exdb/mnist/train-labels-idx1-ubyte.gz to /content/MNIST/raw/train-labels-idx1-ubyte.gz\n"
     ]
    },
    {
     "data": {
      "application/vnd.jupyter.widget-view+json": {
       "model_id": "ac50de04157e4f9180a28a7e93509ee6",
       "version_major": 2,
       "version_minor": 0
      },
      "text/plain": [
       "  0%|          | 0/28881 [00:00<?, ?it/s]"
      ]
     },
     "metadata": {},
     "output_type": "display_data"
    },
    {
     "name": "stdout",
     "output_type": "stream",
     "text": [
      "Extracting /content/MNIST/raw/train-labels-idx1-ubyte.gz to /content/MNIST/raw\n",
      "\n",
      "Downloading http://yann.lecun.com/exdb/mnist/t10k-images-idx3-ubyte.gz\n",
      "Downloading http://yann.lecun.com/exdb/mnist/t10k-images-idx3-ubyte.gz to /content/MNIST/raw/t10k-images-idx3-ubyte.gz\n"
     ]
    },
    {
     "data": {
      "application/vnd.jupyter.widget-view+json": {
       "model_id": "5a6b2ec68a7f4981a198ff87f08456c7",
       "version_major": 2,
       "version_minor": 0
      },
      "text/plain": [
       "  0%|          | 0/1648877 [00:00<?, ?it/s]"
      ]
     },
     "metadata": {},
     "output_type": "display_data"
    },
    {
     "name": "stdout",
     "output_type": "stream",
     "text": [
      "Extracting /content/MNIST/raw/t10k-images-idx3-ubyte.gz to /content/MNIST/raw\n",
      "\n",
      "Downloading http://yann.lecun.com/exdb/mnist/t10k-labels-idx1-ubyte.gz\n",
      "Downloading http://yann.lecun.com/exdb/mnist/t10k-labels-idx1-ubyte.gz to /content/MNIST/raw/t10k-labels-idx1-ubyte.gz\n"
     ]
    },
    {
     "data": {
      "application/vnd.jupyter.widget-view+json": {
       "model_id": "3573982c97b54f4ab1f51f6b74cbeaf2",
       "version_major": 2,
       "version_minor": 0
      },
      "text/plain": [
       "  0%|          | 0/4542 [00:00<?, ?it/s]"
      ]
     },
     "metadata": {},
     "output_type": "display_data"
    },
    {
     "name": "stdout",
     "output_type": "stream",
     "text": [
      "Extracting /content/MNIST/raw/t10k-labels-idx1-ubyte.gz to /content/MNIST/raw\n",
      "\n"
     ]
    }
   ],
   "source": [
    "# For this exercise, we are only concerned with the train split of MNIST\n",
    "mnist_train = MNIST(os.getcwd(), train=True, download=True, transform=transforms.ToTensor())\n",
    "mnist_loader = DataLoader(mnist_train, batch_size=128, shuffle=True, num_workers=2)"
   ]
  },
  {
   "cell_type": "markdown",
   "metadata": {
    "id": "Ok1IfVvrprVN"
   },
   "source": [
    "- Use the following code to visualize the data:\n",
    "\n",
    "        fig, ax = plt.subplots(1,5,figsize = (12,12), dpi = 80)\n",
    "        for i, batch in enumerate(mnist_loader):\n",
    "            x, y = batch\n",
    "            img = to_img(x[0])\n",
    "            ax[i].imshow(img, cmap='gray')\n",
    "            \n",
    "            if i==4:\n",
    "                break"
   ]
  },
  {
   "cell_type": "code",
   "execution_count": 9,
   "metadata": {
    "colab": {
     "base_uri": "https://localhost:8080/",
     "height": 180
    },
    "executionInfo": {
     "elapsed": 975,
     "status": "ok",
     "timestamp": 1679528874226,
     "user": {
      "displayName": "Michael “Michael” Villarreal",
      "userId": "12598620506100447951"
     },
     "user_tz": 300
    },
    "id": "sXJ9x6GLpqYA",
    "outputId": "33930f45-c546-4591-e144-1d1c8ffd2c80"
   },
   "outputs": [
    {
     "data": {
      "image/png": "[encoded data removed]",
      "text/plain": [
       "<Figure size 960x960 with 5 Axes>"
      ]
     },
     "metadata": {
      "needs_background": "light"
     },
     "output_type": "display_data"
    }
   ],
   "source": [
    "fig, ax = plt.subplots(1,5,figsize = (12,12), dpi = 80)\n",
    "for i, batch in enumerate(mnist_loader):\n",
    "    x, y = batch\n",
    "    img = to_img(x[0])\n",
    "    ax[i].imshow(img, cmap='gray')\n",
    "    \n",
    "    if i==4:\n",
    "        break"
   ]
  },
  {
   "cell_type": "markdown",
   "metadata": {
    "id": "LJeYgLvgIjBf"
   },
   "source": [
    "- In this next step, we are going to define the 2 linear layers for calculating the mean and standard deviation (NOTE: we actually calculate the variance with a linear layer, not the standard deviation. The variance can be turn into the standard deviation and is used for KL divergence). Create 2 variables, `self.mu` and `self.var` that are placed after `self.encoder`. They should both be linear layers with `16` in_channels and `2` out_channels\n",
    "\n",
    "- Also, fill in the code in `forward()` where you are supposed to pass `x` through both `self.mu` and `self.var`."
   ]
  },
  {
   "cell_type": "code",
   "execution_count": 65,
   "metadata": {
    "executionInfo": {
     "elapsed": 127,
     "status": "ok",
     "timestamp": 1679532547595,
     "user": {
      "displayName": "Michael “Michael” Villarreal",
      "userId": "12598620506100447951"
     },
     "user_tz": 300
    },
    "id": "B2-N7QIJIjBf"
   },
   "outputs": [],
   "source": [
    "class Encoder(nn.Module):\n",
    "    def __init__(self):\n",
    "        super().__init__()\n",
    "        \n",
    "        self.encoder = nn.Sequential(\n",
    "            nn.Linear(784, 128),\n",
    "            nn.ReLU(),\n",
    "            nn.Linear(128, 16),\n",
    "        )\n",
    "\n",
    "        self.mu = nn.Linear(16, 2)\n",
    "        self.var = nn.Linear(16, 2)\n",
    "        \n",
    "        \n",
    "    def forward(self, x):\n",
    "        x = x.view(x.shape[0], -1)\n",
    "\n",
    "        x = self.encoder(x)\n",
    "        \n",
    "        mu = self.mu(x)\n",
    "        var = self.var(x)\n",
    "        \n",
    "        # Reparameterization\n",
    "        std = torch.exp(var / 2)\n",
    "        eps = torch.randn_like(std)\n",
    "        \n",
    "        z = mu + std * eps\n",
    "        \n",
    "        return z, mu, var\n",
    "\n",
    "# The Decoder class is taken care of for you                \n",
    "class Decoder(nn.Module):\n",
    "    def __init__(self):\n",
    "        super().__init__()\n",
    "        \n",
    "        self.decoder = nn.Sequential(\n",
    "            nn.Linear(2, 16),\n",
    "            nn.ReLU(),\n",
    "            nn.Linear(16, 128),\n",
    "            nn.ReLU(),\n",
    "            nn.Linear(128, 784),\n",
    "            nn.Sigmoid()\n",
    "        )\n",
    "        \n",
    "    def forward(self, x):\n",
    "        x = self.decoder(x)\n",
    "        x = x.view(-1, 1, 28, 28)\n",
    "        return x\n",
    "        "
   ]
  },
  {
   "cell_type": "markdown",
   "metadata": {
    "id": "mwdZXfMWIjBg"
   },
   "source": [
    "- Now, we will train the variational autoencoder. This should take around 10 minutes."
   ]
  },
  {
   "cell_type": "code",
   "execution_count": 68,
   "metadata": {
    "colab": {
     "base_uri": "https://localhost:8080/",
     "height": 1000,
     "referenced_widgets": [
      "ce36ac2a616e444f84af162ef6ae64f0",
      "5ef3f38f372f4f74973cee91fab3880f",
      "688c5b3674e04bf3b546161d705805f2",
      "16d247295f424be49ac81bb353de071a",
      "0802de6857724d429b12beed9f0e9f97",
      "9b2a761cb9d94218abd61b4f53478dc7",
      "09b83e8e1a514f839367c65b373c9a9f",
      "e0a01ad190b64118a7edb56ea456961f",
      "2d7374ffaa65464984e0f0e1f6a91f08",
      "dbde712c39454064b6bf038fecf54b22",
      "9d52ee55c28d4f1ea4da3711f0ff84d9"
     ]
    },
    "executionInfo": {
     "elapsed": 334305,
     "status": "ok",
     "timestamp": 1679532907269,
     "user": {
      "displayName": "Michael “Michael” Villarreal",
      "userId": "12598620506100447951"
     },
     "user_tz": 300
    },
    "id": "FQJvFnDgIjBg",
    "outputId": "3f7b3eb9-5ae7-4cbf-e904-b7ea69c94c91",
    "scrolled": true
   },
   "outputs": [
    {
     "name": "stderr",
     "output_type": "stream",
     "text": [
      "INFO:pytorch_lightning.utilities.rank_zero:GPU available: False, used: False\n",
      "INFO:pytorch_lightning.utilities.rank_zero:TPU available: False, using: 0 TPU cores\n",
      "INFO:pytorch_lightning.utilities.rank_zero:IPU available: False, using: 0 IPUs\n",
      "INFO:pytorch_lightning.utilities.rank_zero:HPU available: False, using: 0 HPUs\n",
      "INFO:pytorch_lightning.callbacks.model_summary:\n",
      "  | Name    | Type    | Params\n",
      "------------------------------------\n",
      "0 | encoder | Encoder | 102 K \n",
      "1 | decoder | Decoder | 103 K \n",
      "------------------------------------\n",
      "205 K     Trainable params\n",
      "0         Non-trainable params\n",
      "205 K     Total params\n",
      "0.824     Total estimated model params size (MB)\n"
     ]
    },
    {
     "data": {
      "application/vnd.jupyter.widget-view+json": {
       "model_id": "ce36ac2a616e444f84af162ef6ae64f0",
       "version_major": 2,
       "version_minor": 0
      },
      "text/plain": [
       "Training: 0it [00:00, ?it/s]"
      ]
     },
     "metadata": {},
     "output_type": "display_data"
    },
    {
     "name": "stdout",
     "output_type": "stream",
     "text": [
      "\n",
      "EPOCH TRAIN LOSS: 0.31599292159080505\n",
      "\n",
      "EPOCH TRAIN LOSS: 0.2640237808227539\n",
      "\n",
      "EPOCH TRAIN LOSS: 0.2633940875530243\n",
      "\n",
      "EPOCH TRAIN LOSS: 0.26321840286254883\n",
      "\n",
      "EPOCH TRAIN LOSS: 0.2631322145462036\n",
      "\n",
      "EPOCH TRAIN LOSS: 0.2631041407585144\n",
      "\n",
      "EPOCH TRAIN LOSS: 0.2630641460418701\n",
      "\n",
      "EPOCH TRAIN LOSS: 0.26304757595062256\n",
      "\n",
      "EPOCH TRAIN LOSS: 0.2630184292793274\n",
      "\n",
      "EPOCH TRAIN LOSS: 0.2630147933959961\n",
      "\n",
      "EPOCH TRAIN LOSS: 0.26299384236335754\n",
      "\n",
      "EPOCH TRAIN LOSS: 0.2629968523979187\n",
      "\n",
      "EPOCH TRAIN LOSS: 0.2629755437374115\n",
      "\n",
      "EPOCH TRAIN LOSS: 0.2629649043083191\n",
      "\n",
      "EPOCH TRAIN LOSS: 0.2629581093788147\n",
      "\n",
      "EPOCH TRAIN LOSS: 0.2629554569721222\n",
      "\n",
      "EPOCH TRAIN LOSS: 0.26294848322868347\n",
      "\n",
      "EPOCH TRAIN LOSS: 0.2629474401473999\n",
      "\n",
      "EPOCH TRAIN LOSS: 0.2629409432411194\n"
     ]
    },
    {
     "name": "stderr",
     "output_type": "stream",
     "text": [
      "INFO:pytorch_lightning.utilities.rank_zero:`Trainer.fit` stopped: `max_epochs=20` reached.\n"
     ]
    },
    {
     "name": "stdout",
     "output_type": "stream",
     "text": [
      "\n",
      "EPOCH TRAIN LOSS: 0.262934148311615\n"
     ]
    }
   ],
   "source": [
    "vae = VariationalAutoEncoder(Encoder(), Decoder())\n",
    "\n",
    "# Utility function for training the vae. If you're curious, you can check out vae.py that gets downloaded to view some behind-the-scenes stuff!\n",
    "train_vae(vae, mnist_loader)"
   ]
  },
  {
   "cell_type": "markdown",
   "metadata": {
    "id": "TuzcLf0EIjBg"
   },
   "source": [
    "- Use the following code to visualize and generate a fake image:\n",
    "\n",
    "        # Sample a random vector, generate fake images and plot \n",
    "        fig, ax = plt.subplots(1,1,figsize = (6,6), dpi = 80)\n",
    "        for i, ax in enumerate(fig.axes):\n",
    "        \n",
    "            random_latent_vector = torch.rand(128, 2)\n",
    "            print(random_latent_vector[0])\n",
    "            fake_images = torch.moveaxis(vae(random_latent_vector), 1, -1).detach()\n",
    "\n",
    "            ax.imshow(fake_images[0], cmap= 'gray') "
   ]
  },
  {
   "cell_type": "code",
   "execution_count": null,
   "metadata": {
    "id": "NXMVSJmxIjBg"
   },
   "outputs": [],
   "source": [
    "# Sample a random vector, generate fake images and plot \n",
    "fig, ax = plt.subplots(1,1,figsize = (6,6), dpi = 80)\n",
    "for i, ax in enumerate(fig.axes):\n",
    "  \n",
    "    random_latent_vector = torch.rand(128, 2)\n",
    "    print(random_latent_vector[0])\n",
    "    fake_images = torch.moveaxis(vae(random_latent_vector), 1, -1).detach()\n",
    "\n",
    "    ax.imshow(fake_images[0], cmap= 'gray') "
   ]
  }
 ],
 "metadata": {
  "colab": {
   "provenance": []
  },
  "kernelspec": {
   "display_name": "Python 3 (ipykernel)",
   "language": "python",
   "name": "python3"
  },
  "language_info": {
   "codemirror_mode": {
    "name": "ipython",
    "version": 3
   },
   "file_extension": ".py",
   "mimetype": "text/x-python",
   "name": "python",
   "nbconvert_exporter": "python",
   "pygments_lexer": "ipython3",
   "version": "3.9.12"
  },
  "widgets": {
   "application/vnd.jupyter.widget-state+json": {
    "00f1a0d0ecea43aa9e09c36ee2ef645e": {
     "model_module": "@jupyter-widgets/controls",
     "model_module_version": "1.5.0",
     "model_name": "DescriptionStyleModel",
     "state": {
      "_model_module": "@jupyter-widgets/controls",
      "_model_module_version": "1.5.0",
      "_model_name": "DescriptionStyleModel",
      "_view_count": null,
      "_view_module": "@jupyter-widgets/base",
      "_view_module_version": "1.2.0",
      "_view_name": "StyleView",
      "description_width": ""
     }
    },
    "0363d60753be40948039b32f60f0dbe5": {
     "model_module": "@jupyter-widgets/controls",
     "model_module_version": "1.5.0",
     "model_name": "ProgressStyleModel",
     "state": {
      "_model_module": "@jupyter-widgets/controls",
      "_model_module_version": "1.5.0",
      "_model_name": "ProgressStyleModel",
      "_view_count": null,
      "_view_module": "@jupyter-widgets/base",
      "_view_module_version": "1.2.0",
      "_view_name": "StyleView",
      "bar_color": null,
      "description_width": ""
     }
    },
    "0802de6857724d429b12beed9f0e9f97": {
     "model_module": "@jupyter-widgets/base",
     "model_module_version": "1.2.0",
     "model_name": "LayoutModel",
     "state": {
      "_model_module": "@jupyter-widgets/base",
      "_model_module_version": "1.2.0",
      "_model_name": "LayoutModel",
      "_view_count": null,
      "_view_module": "@jupyter-widgets/base",
      "_view_module_version": "1.2.0",
      "_view_name": "LayoutView",
      "align_content": null,
      "align_items": null,
      "align_self": null,
      "border": null,
      "bottom": null,
      "display": "inline-flex",
      "flex": null,
      "flex_flow": "row wrap",
      "grid_area": null,
      "grid_auto_columns": null,
      "grid_auto_flow": null,
      "grid_auto_rows": null,
      "grid_column": null,
      "grid_gap": null,
      "grid_row": null,
      "grid_template_areas": null,
      "grid_template_columns": null,
      "grid_template_rows": null,
      "height": null,
      "justify_content": null,
      "justify_items": null,
      "left": null,
      "margin": null,
      "max_height": null,
      "max_width": null,
      "min_height": null,
      "min_width": null,
      "object_fit": null,
      "object_position": null,
      "order": null,
      "overflow": null,
      "overflow_x": null,
      "overflow_y": null,
      "padding": null,
      "right": null,
      "top": null,
      "visibility": null,
      "width": "100%"
     }
    },
    "0914ab48da964266acadae25b6b772d3": {
     "model_module": "@jupyter-widgets/controls",
     "model_module_version": "1.5.0",
     "model_name": "DescriptionStyleModel",
     "state": {
      "_model_module": "@jupyter-widgets/controls",
      "_model_module_version": "1.5.0",
      "_model_name": "DescriptionStyleModel",
      "_view_count": null,
      "_view_module": "@jupyter-widgets/base",
      "_view_module_version": "1.2.0",
      "_view_name": "StyleView",
      "description_width": ""
     }
    },
    "09b83e8e1a514f839367c65b373c9a9f": {
     "model_module": "@jupyter-widgets/controls",
     "model_module_version": "1.5.0",
     "model_name": "DescriptionStyleModel",
     "state": {
      "_model_module": "@jupyter-widgets/controls",
      "_model_module_version": "1.5.0",
      "_model_name": "DescriptionStyleModel",
      "_view_count": null,
      "_view_module": "@jupyter-widgets/base",
      "_view_module_version": "1.2.0",
      "_view_name": "StyleView",
      "description_width": ""
     }
    },
    "0c6bb8d605da4bfc9961d2f36a95b0c4": {
     "model_module": "@jupyter-widgets/controls",
     "model_module_version": "1.5.0",
     "model_name": "DescriptionStyleModel",
     "state": {
      "_model_module": "@jupyter-widgets/controls",
      "_model_module_version": "1.5.0",
      "_model_name": "DescriptionStyleModel",
      "_view_count": null,
      "_view_module": "@jupyter-widgets/base",
      "_view_module_version": "1.2.0",
      "_view_name": "StyleView",
      "description_width": ""
     }
    },
    "11a52fe8010d4604836dd543791405d5": {
     "model_module": "@jupyter-widgets/base",
     "model_module_version": "1.2.0",
     "model_name": "LayoutModel",
     "state": {
      "_model_module": "@jupyter-widgets/base",
      "_model_module_version": "1.2.0",
      "_model_name": "LayoutModel",
      "_view_count": null,
      "_view_module": "@jupyter-widgets/base",
      "_view_module_version": "1.2.0",
      "_view_name": "LayoutView",
      "align_content": null,
      "align_items": null,
      "align_self": null,
      "border": null,
      "bottom": null,
      "display": null,
      "flex": null,
      "flex_flow": null,
      "grid_area": null,
      "grid_auto_columns": null,
      "grid_auto_flow": null,
      "grid_auto_rows": null,
      "grid_column": null,
      "grid_gap": null,
      "grid_row": null,
      "grid_template_areas": null,
      "grid_template_columns": null,
      "grid_template_rows": null,
      "height": null,
      "justify_content": null,
      "justify_items": null,
      "left": null,
      "margin": null,
      "max_height": null,
      "max_width": null,
      "min_height": null,
      "min_width": null,
      "object_fit": null,
      "object_position": null,
      "order": null,
      "overflow": null,
      "overflow_x": null,
      "overflow_y": null,
      "padding": null,
      "right": null,
      "top": null,
      "visibility": null,
      "width": null
     }
    },
    "130e2ddcdaf043649e4e5f5d5413ee01": {
     "model_module": "@jupyter-widgets/controls",
     "model_module_version": "1.5.0",
     "model_name": "FloatProgressModel",
     "state": {
      "_dom_classes": [],
      "_model_module": "@jupyter-widgets/controls",
      "_model_module_version": "1.5.0",
      "_model_name": "FloatProgressModel",
      "_view_count": null,
      "_view_module": "@jupyter-widgets/controls",
      "_view_module_version": "1.5.0",
      "_view_name": "ProgressView",
      "bar_style": "success",
      "description": "",
      "description_tooltip": null,
      "layout": "IPY_MODEL_91576b2b091d4abeb2ccb6be1ecb5e55",
      "max": 28881,
      "min": 0,
      "orientation": "horizontal",
      "style": "IPY_MODEL_96a6e48aaf66450fac6c7505c73f2baf",
      "value": 28881
     }
    },
    "149a16a1afe54a83a1ca34ffdfd5f3a9": {
     "model_module": "@jupyter-widgets/base",
     "model_module_version": "1.2.0",
     "model_name": "LayoutModel",
     "state": {
      "_model_module": "@jupyter-widgets/base",
      "_model_module_version": "1.2.0",
      "_model_name": "LayoutModel",
      "_view_count": null,
      "_view_module": "@jupyter-widgets/base",
      "_view_module_version": "1.2.0",
      "_view_name": "LayoutView",
      "align_content": null,
      "align_items": null,
      "align_self": null,
      "border": null,
      "bottom": null,
      "display": null,
      "flex": null,
      "flex_flow": null,
      "grid_area": null,
      "grid_auto_columns": null,
      "grid_auto_flow": null,
      "grid_auto_rows": null,
      "grid_column": null,
      "grid_gap": null,
      "grid_row": null,
      "grid_template_areas": null,
      "grid_template_columns": null,
      "grid_template_rows": null,
      "height": null,
      "justify_content": null,
      "justify_items": null,
      "left": null,
      "margin": null,
      "max_height": null,
      "max_width": null,
      "min_height": null,
      "min_width": null,
      "object_fit": null,
      "object_position": null,
      "order": null,
      "overflow": null,
      "overflow_x": null,
      "overflow_y": null,
      "padding": null,
      "right": null,
      "top": null,
      "visibility": null,
      "width": null
     }
    },
    "16d247295f424be49ac81bb353de071a": {
     "model_module": "@jupyter-widgets/controls",
     "model_module_version": "1.5.0",
     "model_name": "HTMLModel",
     "state": {
      "_dom_classes": [],
      "_model_module": "@jupyter-widgets/controls",
      "_model_module_version": "1.5.0",
      "_model_name": "HTMLModel",
      "_view_count": null,
      "_view_module": "@jupyter-widgets/controls",
      "_view_module_version": "1.5.0",
      "_view_name": "HTMLView",
      "description": "",
      "description_tooltip": null,
      "layout": "IPY_MODEL_dbde712c39454064b6bf038fecf54b22",
      "placeholder": "​",
      "style": "IPY_MODEL_9d52ee55c28d4f1ea4da3711f0ff84d9",
      "value": " 469/469 [00:17&lt;00:00, 26.47it/s, loss=0.263, v_num=22]"
     }
    },
    "1daba88c299e4c63af305dfe7f4deb25": {
     "model_module": "@jupyter-widgets/controls",
     "model_module_version": "1.5.0",
     "model_name": "DescriptionStyleModel",
     "state": {
      "_model_module": "@jupyter-widgets/controls",
      "_model_module_version": "1.5.0",
      "_model_name": "DescriptionStyleModel",
      "_view_count": null,
      "_view_module": "@jupyter-widgets/base",
      "_view_module_version": "1.2.0",
      "_view_name": "StyleView",
      "description_width": ""
     }
    },
    "1e681c7ab3864db5b1ea3c297b26d798": {
     "model_module": "@jupyter-widgets/controls",
     "model_module_version": "1.5.0",
     "model_name": "FloatProgressModel",
     "state": {
      "_dom_classes": [],
      "_model_module": "@jupyter-widgets/controls",
      "_model_module_version": "1.5.0",
      "_model_name": "FloatProgressModel",
      "_view_count": null,
      "_view_module": "@jupyter-widgets/controls",
      "_view_module_version": "1.5.0",
      "_view_name": "ProgressView",
      "bar_style": "success",
      "description": "",
      "description_tooltip": null,
      "layout": "IPY_MODEL_5025921db5764e9c91298ba7ad11aa47",
      "max": 1648877,
      "min": 0,
      "orientation": "horizontal",
      "style": "IPY_MODEL_4f28292ddc3c44d9b3f578b115e59795",
      "value": 1648877
     }
    },
    "2368015d6dfa465daed48c373bd930ae": {
     "model_module": "@jupyter-widgets/base",
     "model_module_version": "1.2.0",
     "model_name": "LayoutModel",
     "state": {
      "_model_module": "@jupyter-widgets/base",
      "_model_module_version": "1.2.0",
      "_model_name": "LayoutModel",
      "_view_count": null,
      "_view_module": "@jupyter-widgets/base",
      "_view_module_version": "1.2.0",
      "_view_name": "LayoutView",
      "align_content": null,
      "align_items": null,
      "align_self": null,
      "border": null,
      "bottom": null,
      "display": null,
      "flex": null,
      "flex_flow": null,
      "grid_area": null,
      "grid_auto_columns": null,
      "grid_auto_flow": null,
      "grid_auto_rows": null,
      "grid_column": null,
      "grid_gap": null,
      "grid_row": null,
      "grid_template_areas": null,
      "grid_template_columns": null,
      "grid_template_rows": null,
      "height": null,
      "justify_content": null,
      "justify_items": null,
      "left": null,
      "margin": null,
      "max_height": null,
      "max_width": null,
      "min_height": null,
      "min_width": null,
      "object_fit": null,
      "object_position": null,
      "order": null,
      "overflow": null,
      "overflow_x": null,
      "overflow_y": null,
      "padding": null,
      "right": null,
      "top": null,
      "visibility": null,
      "width": null
     }
    },
    "2d7374ffaa65464984e0f0e1f6a91f08": {
     "model_module": "@jupyter-widgets/controls",
     "model_module_version": "1.5.0",
     "model_name": "ProgressStyleModel",
     "state": {
      "_model_module": "@jupyter-widgets/controls",
      "_model_module_version": "1.5.0",
      "_model_name": "ProgressStyleModel",
      "_view_count": null,
      "_view_module": "@jupyter-widgets/base",
      "_view_module_version": "1.2.0",
      "_view_name": "StyleView",
      "bar_color": null,
      "description_width": ""
     }
    },
    "3098c9be783a417ba4d564f5ebea9f51": {
     "model_module": "@jupyter-widgets/base",
     "model_module_version": "1.2.0",
     "model_name": "LayoutModel",
     "state": {
      "_model_module": "@jupyter-widgets/base",
      "_model_module_version": "1.2.0",
      "_model_name": "LayoutModel",
      "_view_count": null,
      "_view_module": "@jupyter-widgets/base",
      "_view_module_version": "1.2.0",
      "_view_name": "LayoutView",
      "align_content": null,
      "align_items": null,
      "align_self": null,
      "border": null,
      "bottom": null,
      "display": null,
      "flex": null,
      "flex_flow": null,
      "grid_area": null,
      "grid_auto_columns": null,
      "grid_auto_flow": null,
      "grid_auto_rows": null,
      "grid_column": null,
      "grid_gap": null,
      "grid_row": null,
      "grid_template_areas": null,
      "grid_template_columns": null,
      "grid_template_rows": null,
      "height": null,
      "justify_content": null,
      "justify_items": null,
      "left": null,
      "margin": null,
      "max_height": null,
      "max_width": null,
      "min_height": null,
      "min_width": null,
      "object_fit": null,
      "object_position": null,
      "order": null,
      "overflow": null,
      "overflow_x": null,
      "overflow_y": null,
      "padding": null,
      "right": null,
      "top": null,
      "visibility": null,
      "width": null
     }
    },
    "3480548c7e00423fb404e639eb29834f": {
     "model_module": "@jupyter-widgets/base",
     "model_module_version": "1.2.0",
     "model_name": "LayoutModel",
     "state": {
      "_model_module": "@jupyter-widgets/base",
      "_model_module_version": "1.2.0",
      "_model_name": "LayoutModel",
      "_view_count": null,
      "_view_module": "@jupyter-widgets/base",
      "_view_module_version": "1.2.0",
      "_view_name": "LayoutView",
      "align_content": null,
      "align_items": null,
      "align_self": null,
      "border": null,
      "bottom": null,
      "display": null,
      "flex": null,
      "flex_flow": null,
      "grid_area": null,
      "grid_auto_columns": null,
      "grid_auto_flow": null,
      "grid_auto_rows": null,
      "grid_column": null,
      "grid_gap": null,
      "grid_row": null,
      "grid_template_areas": null,
      "grid_template_columns": null,
      "grid_template_rows": null,
      "height": null,
      "justify_content": null,
      "justify_items": null,
      "left": null,
      "margin": null,
      "max_height": null,
      "max_width": null,
      "min_height": null,
      "min_width": null,
      "object_fit": null,
      "object_position": null,
      "order": null,
      "overflow": null,
      "overflow_x": null,
      "overflow_y": null,
      "padding": null,
      "right": null,
      "top": null,
      "visibility": null,
      "width": null
     }
    },
    "3573982c97b54f4ab1f51f6b74cbeaf2": {
     "model_module": "@jupyter-widgets/controls",
     "model_module_version": "1.5.0",
     "model_name": "HBoxModel",
     "state": {
      "_dom_classes": [],
      "_model_module": "@jupyter-widgets/controls",
      "_model_module_version": "1.5.0",
      "_model_name": "HBoxModel",
      "_view_count": null,
      "_view_module": "@jupyter-widgets/controls",
      "_view_module_version": "1.5.0",
      "_view_name": "HBoxView",
      "box_style": "",
      "children": [
       "IPY_MODEL_71a400c2dfe049359c7616abce373795",
       "IPY_MODEL_d0e5cdaa78b547e98abc5a9b33e272c6",
       "IPY_MODEL_3b1efe8bd0ed423593dedacb80870a98"
      ],
      "layout": "IPY_MODEL_4d92926f61ce47f78dd30549e413066f"
     }
    },
    "3b1efe8bd0ed423593dedacb80870a98": {
     "model_module": "@jupyter-widgets/controls",
     "model_module_version": "1.5.0",
     "model_name": "HTMLModel",
     "state": {
      "_dom_classes": [],
      "_model_module": "@jupyter-widgets/controls",
      "_model_module_version": "1.5.0",
      "_model_name": "HTMLModel",
      "_view_count": null,
      "_view_module": "@jupyter-widgets/controls",
      "_view_module_version": "1.5.0",
      "_view_name": "HTMLView",
      "description": "",
      "description_tooltip": null,
      "layout": "IPY_MODEL_5afd4a1de6c84d999c2d04df496d5829",
      "placeholder": "​",
      "style": "IPY_MODEL_9abb583dc1bd4661857049ffd6d2cb01",
      "value": " 4542/4542 [00:00&lt;00:00, 243354.61it/s]"
     }
    },
    "3fff6842fcde455e93433c421d7a95ba": {
     "model_module": "@jupyter-widgets/controls",
     "model_module_version": "1.5.0",
     "model_name": "DescriptionStyleModel",
     "state": {
      "_model_module": "@jupyter-widgets/controls",
      "_model_module_version": "1.5.0",
      "_model_name": "DescriptionStyleModel",
      "_view_count": null,
      "_view_module": "@jupyter-widgets/base",
      "_view_module_version": "1.2.0",
      "_view_name": "StyleView",
      "description_width": ""
     }
    },
    "46a57371a45b4a86944f209e8124fecc": {
     "model_module": "@jupyter-widgets/controls",
     "model_module_version": "1.5.0",
     "model_name": "ProgressStyleModel",
     "state": {
      "_model_module": "@jupyter-widgets/controls",
      "_model_module_version": "1.5.0",
      "_model_name": "ProgressStyleModel",
      "_view_count": null,
      "_view_module": "@jupyter-widgets/base",
      "_view_module_version": "1.2.0",
      "_view_name": "StyleView",
      "bar_color": null,
      "description_width": ""
     }
    },
    "4a80080ae1cb46c384bfc6d4b05f5057": {
     "model_module": "@jupyter-widgets/controls",
     "model_module_version": "1.5.0",
     "model_name": "DescriptionStyleModel",
     "state": {
      "_model_module": "@jupyter-widgets/controls",
      "_model_module_version": "1.5.0",
      "_model_name": "DescriptionStyleModel",
      "_view_count": null,
      "_view_module": "@jupyter-widgets/base",
      "_view_module_version": "1.2.0",
      "_view_name": "StyleView",
      "description_width": ""
     }
    },
    "4c111ac3f51447a2a719000cf0f56cb2": {
     "model_module": "@jupyter-widgets/controls",
     "model_module_version": "1.5.0",
     "model_name": "HTMLModel",
     "state": {
      "_dom_classes": [],
      "_model_module": "@jupyter-widgets/controls",
      "_model_module_version": "1.5.0",
      "_model_name": "HTMLModel",
      "_view_count": null,
      "_view_module": "@jupyter-widgets/controls",
      "_view_module_version": "1.5.0",
      "_view_name": "HTMLView",
      "description": "",
      "description_tooltip": null,
      "layout": "IPY_MODEL_149a16a1afe54a83a1ca34ffdfd5f3a9",
      "placeholder": "​",
      "style": "IPY_MODEL_6959cd768af44cdb8d4ab64d1aa5fd20",
      "value": " 9912422/9912422 [00:00&lt;00:00, 57625983.74it/s]"
     }
    },
    "4d92926f61ce47f78dd30549e413066f": {
     "model_module": "@jupyter-widgets/base",
     "model_module_version": "1.2.0",
     "model_name": "LayoutModel",
     "state": {
      "_model_module": "@jupyter-widgets/base",
      "_model_module_version": "1.2.0",
      "_model_name": "LayoutModel",
      "_view_count": null,
      "_view_module": "@jupyter-widgets/base",
      "_view_module_version": "1.2.0",
      "_view_name": "LayoutView",
      "align_content": null,
      "align_items": null,
      "align_self": null,
      "border": null,
      "bottom": null,
      "display": null,
      "flex": null,
      "flex_flow": null,
      "grid_area": null,
      "grid_auto_columns": null,
      "grid_auto_flow": null,
      "grid_auto_rows": null,
      "grid_column": null,
      "grid_gap": null,
      "grid_row": null,
      "grid_template_areas": null,
      "grid_template_columns": null,
      "grid_template_rows": null,
      "height": null,
      "justify_content": null,
      "justify_items": null,
      "left": null,
      "margin": null,
      "max_height": null,
      "max_width": null,
      "min_height": null,
      "min_width": null,
      "object_fit": null,
      "object_position": null,
      "order": null,
      "overflow": null,
      "overflow_x": null,
      "overflow_y": null,
      "padding": null,
      "right": null,
      "top": null,
      "visibility": null,
      "width": null
     }
    },
    "4f28292ddc3c44d9b3f578b115e59795": {
     "model_module": "@jupyter-widgets/controls",
     "model_module_version": "1.5.0",
     "model_name": "ProgressStyleModel",
     "state": {
      "_model_module": "@jupyter-widgets/controls",
      "_model_module_version": "1.5.0",
      "_model_name": "ProgressStyleModel",
      "_view_count": null,
      "_view_module": "@jupyter-widgets/base",
      "_view_module_version": "1.2.0",
      "_view_name": "StyleView",
      "bar_color": null,
      "description_width": ""
     }
    },
    "5025921db5764e9c91298ba7ad11aa47": {
     "model_module": "@jupyter-widgets/base",
     "model_module_version": "1.2.0",
     "model_name": "LayoutModel",
     "state": {
      "_model_module": "@jupyter-widgets/base",
      "_model_module_version": "1.2.0",
      "_model_name": "LayoutModel",
      "_view_count": null,
      "_view_module": "@jupyter-widgets/base",
      "_view_module_version": "1.2.0",
      "_view_name": "LayoutView",
      "align_content": null,
      "align_items": null,
      "align_self": null,
      "border": null,
      "bottom": null,
      "display": null,
      "flex": null,
      "flex_flow": null,
      "grid_area": null,
      "grid_auto_columns": null,
      "grid_auto_flow": null,
      "grid_auto_rows": null,
      "grid_column": null,
      "grid_gap": null,
      "grid_row": null,
      "grid_template_areas": null,
      "grid_template_columns": null,
      "grid_template_rows": null,
      "height": null,
      "justify_content": null,
      "justify_items": null,
      "left": null,
      "margin": null,
      "max_height": null,
      "max_width": null,
      "min_height": null,
      "min_width": null,
      "object_fit": null,
      "object_position": null,
      "order": null,
      "overflow": null,
      "overflow_x": null,
      "overflow_y": null,
      "padding": null,
      "right": null,
      "top": null,
      "visibility": null,
      "width": null
     }
    },
    "5a6b2ec68a7f4981a198ff87f08456c7": {
     "model_module": "@jupyter-widgets/controls",
     "model_module_version": "1.5.0",
     "model_name": "HBoxModel",
     "state": {
      "_dom_classes": [],
      "_model_module": "@jupyter-widgets/controls",
      "_model_module_version": "1.5.0",
      "_model_name": "HBoxModel",
      "_view_count": null,
      "_view_module": "@jupyter-widgets/controls",
      "_view_module_version": "1.5.0",
      "_view_name": "HBoxView",
      "box_style": "",
      "children": [
       "IPY_MODEL_890ab8aefcbf4e4197539a6071be9c8c",
       "IPY_MODEL_1e681c7ab3864db5b1ea3c297b26d798",
       "IPY_MODEL_f602d2dbcfff4738bc4f91b05f5c311f"
      ],
      "layout": "IPY_MODEL_e38211475bb0421abb86c428710cfd04"
     }
    },
    "5afd4a1de6c84d999c2d04df496d5829": {
     "model_module": "@jupyter-widgets/base",
     "model_module_version": "1.2.0",
     "model_name": "LayoutModel",
     "state": {
      "_model_module": "@jupyter-widgets/base",
      "_model_module_version": "1.2.0",
      "_model_name": "LayoutModel",
      "_view_count": null,
      "_view_module": "@jupyter-widgets/base",
      "_view_module_version": "1.2.0",
      "_view_name": "LayoutView",
      "align_content": null,
      "align_items": null,
      "align_self": null,
      "border": null,
      "bottom": null,
      "display": null,
      "flex": null,
      "flex_flow": null,
      "grid_area": null,
      "grid_auto_columns": null,
      "grid_auto_flow": null,
      "grid_auto_rows": null,
      "grid_column": null,
      "grid_gap": null,
      "grid_row": null,
      "grid_template_areas": null,
      "grid_template_columns": null,
      "grid_template_rows": null,
      "height": null,
      "justify_content": null,
      "justify_items": null,
      "left": null,
      "margin": null,
      "max_height": null,
      "max_width": null,
      "min_height": null,
      "min_width": null,
      "object_fit": null,
      "object_position": null,
      "order": null,
      "overflow": null,
      "overflow_x": null,
      "overflow_y": null,
      "padding": null,
      "right": null,
      "top": null,
      "visibility": null,
      "width": null
     }
    },
    "5ef3f38f372f4f74973cee91fab3880f": {
     "model_module": "@jupyter-widgets/controls",
     "model_module_version": "1.5.0",
     "model_name": "HTMLModel",
     "state": {
      "_dom_classes": [],
      "_model_module": "@jupyter-widgets/controls",
      "_model_module_version": "1.5.0",
      "_model_name": "HTMLModel",
      "_view_count": null,
      "_view_module": "@jupyter-widgets/controls",
      "_view_module_version": "1.5.0",
      "_view_name": "HTMLView",
      "description": "",
      "description_tooltip": null,
      "layout": "IPY_MODEL_9b2a761cb9d94218abd61b4f53478dc7",
      "placeholder": "​",
      "style": "IPY_MODEL_09b83e8e1a514f839367c65b373c9a9f",
      "value": "Epoch 19: 100%"
     }
    },
    "688c5b3674e04bf3b546161d705805f2": {
     "model_module": "@jupyter-widgets/controls",
     "model_module_version": "1.5.0",
     "model_name": "FloatProgressModel",
     "state": {
      "_dom_classes": [],
      "_model_module": "@jupyter-widgets/controls",
      "_model_module_version": "1.5.0",
      "_model_name": "FloatProgressModel",
      "_view_count": null,
      "_view_module": "@jupyter-widgets/controls",
      "_view_module_version": "1.5.0",
      "_view_name": "ProgressView",
      "bar_style": "success",
      "description": "",
      "description_tooltip": null,
      "layout": "IPY_MODEL_e0a01ad190b64118a7edb56ea456961f",
      "max": 469,
      "min": 0,
      "orientation": "horizontal",
      "style": "IPY_MODEL_2d7374ffaa65464984e0f0e1f6a91f08",
      "value": 469
     }
    },
    "6959cd768af44cdb8d4ab64d1aa5fd20": {
     "model_module": "@jupyter-widgets/controls",
     "model_module_version": "1.5.0",
     "model_name": "DescriptionStyleModel",
     "state": {
      "_model_module": "@jupyter-widgets/controls",
      "_model_module_version": "1.5.0",
      "_model_name": "DescriptionStyleModel",
      "_view_count": null,
      "_view_module": "@jupyter-widgets/base",
      "_view_module_version": "1.2.0",
      "_view_name": "StyleView",
      "description_width": ""
     }
    },
    "6e71ed09e05045a8ad6b12fd7942ddf4": {
     "model_module": "@jupyter-widgets/controls",
     "model_module_version": "1.5.0",
     "model_name": "HTMLModel",
     "state": {
      "_dom_classes": [],
      "_model_module": "@jupyter-widgets/controls",
      "_model_module_version": "1.5.0",
      "_model_name": "HTMLModel",
      "_view_count": null,
      "_view_module": "@jupyter-widgets/controls",
      "_view_module_version": "1.5.0",
      "_view_name": "HTMLView",
      "description": "",
      "description_tooltip": null,
      "layout": "IPY_MODEL_78f4216f85b14ecbab574440963af83e",
      "placeholder": "​",
      "style": "IPY_MODEL_00f1a0d0ecea43aa9e09c36ee2ef645e",
      "value": "100%"
     }
    },
    "71a400c2dfe049359c7616abce373795": {
     "model_module": "@jupyter-widgets/controls",
     "model_module_version": "1.5.0",
     "model_name": "HTMLModel",
     "state": {
      "_dom_classes": [],
      "_model_module": "@jupyter-widgets/controls",
      "_model_module_version": "1.5.0",
      "_model_name": "HTMLModel",
      "_view_count": null,
      "_view_module": "@jupyter-widgets/controls",
      "_view_module_version": "1.5.0",
      "_view_name": "HTMLView",
      "description": "",
      "description_tooltip": null,
      "layout": "IPY_MODEL_99945671e0f945fb95e8bc1bce2a2d1b",
      "placeholder": "​",
      "style": "IPY_MODEL_0914ab48da964266acadae25b6b772d3",
      "value": "100%"
     }
    },
    "75ef3eb1e4fb459e89bd0fb02113507c": {
     "model_module": "@jupyter-widgets/base",
     "model_module_version": "1.2.0",
     "model_name": "LayoutModel",
     "state": {
      "_model_module": "@jupyter-widgets/base",
      "_model_module_version": "1.2.0",
      "_model_name": "LayoutModel",
      "_view_count": null,
      "_view_module": "@jupyter-widgets/base",
      "_view_module_version": "1.2.0",
      "_view_name": "LayoutView",
      "align_content": null,
      "align_items": null,
      "align_self": null,
      "border": null,
      "bottom": null,
      "display": null,
      "flex": null,
      "flex_flow": null,
      "grid_area": null,
      "grid_auto_columns": null,
      "grid_auto_flow": null,
      "grid_auto_rows": null,
      "grid_column": null,
      "grid_gap": null,
      "grid_row": null,
      "grid_template_areas": null,
      "grid_template_columns": null,
      "grid_template_rows": null,
      "height": null,
      "justify_content": null,
      "justify_items": null,
      "left": null,
      "margin": null,
      "max_height": null,
      "max_width": null,
      "min_height": null,
      "min_width": null,
      "object_fit": null,
      "object_position": null,
      "order": null,
      "overflow": null,
      "overflow_x": null,
      "overflow_y": null,
      "padding": null,
      "right": null,
      "top": null,
      "visibility": null,
      "width": null
     }
    },
    "78f4216f85b14ecbab574440963af83e": {
     "model_module": "@jupyter-widgets/base",
     "model_module_version": "1.2.0",
     "model_name": "LayoutModel",
     "state": {
      "_model_module": "@jupyter-widgets/base",
      "_model_module_version": "1.2.0",
      "_model_name": "LayoutModel",
      "_view_count": null,
      "_view_module": "@jupyter-widgets/base",
      "_view_module_version": "1.2.0",
      "_view_name": "LayoutView",
      "align_content": null,
      "align_items": null,
      "align_self": null,
      "border": null,
      "bottom": null,
      "display": null,
      "flex": null,
      "flex_flow": null,
      "grid_area": null,
      "grid_auto_columns": null,
      "grid_auto_flow": null,
      "grid_auto_rows": null,
      "grid_column": null,
      "grid_gap": null,
      "grid_row": null,
      "grid_template_areas": null,
      "grid_template_columns": null,
      "grid_template_rows": null,
      "height": null,
      "justify_content": null,
      "justify_items": null,
      "left": null,
      "margin": null,
      "max_height": null,
      "max_width": null,
      "min_height": null,
      "min_width": null,
      "object_fit": null,
      "object_position": null,
      "order": null,
      "overflow": null,
      "overflow_x": null,
      "overflow_y": null,
      "padding": null,
      "right": null,
      "top": null,
      "visibility": null,
      "width": null
     }
    },
    "869f5c338db4488abaf86fa30e75b206": {
     "model_module": "@jupyter-widgets/base",
     "model_module_version": "1.2.0",
     "model_name": "LayoutModel",
     "state": {
      "_model_module": "@jupyter-widgets/base",
      "_model_module_version": "1.2.0",
      "_model_name": "LayoutModel",
      "_view_count": null,
      "_view_module": "@jupyter-widgets/base",
      "_view_module_version": "1.2.0",
      "_view_name": "LayoutView",
      "align_content": null,
      "align_items": null,
      "align_self": null,
      "border": null,
      "bottom": null,
      "display": null,
      "flex": null,
      "flex_flow": null,
      "grid_area": null,
      "grid_auto_columns": null,
      "grid_auto_flow": null,
      "grid_auto_rows": null,
      "grid_column": null,
      "grid_gap": null,
      "grid_row": null,
      "grid_template_areas": null,
      "grid_template_columns": null,
      "grid_template_rows": null,
      "height": null,
      "justify_content": null,
      "justify_items": null,
      "left": null,
      "margin": null,
      "max_height": null,
      "max_width": null,
      "min_height": null,
      "min_width": null,
      "object_fit": null,
      "object_position": null,
      "order": null,
      "overflow": null,
      "overflow_x": null,
      "overflow_y": null,
      "padding": null,
      "right": null,
      "top": null,
      "visibility": null,
      "width": null
     }
    },
    "890ab8aefcbf4e4197539a6071be9c8c": {
     "model_module": "@jupyter-widgets/controls",
     "model_module_version": "1.5.0",
     "model_name": "HTMLModel",
     "state": {
      "_dom_classes": [],
      "_model_module": "@jupyter-widgets/controls",
      "_model_module_version": "1.5.0",
      "_model_name": "HTMLModel",
      "_view_count": null,
      "_view_module": "@jupyter-widgets/controls",
      "_view_module_version": "1.5.0",
      "_view_name": "HTMLView",
      "description": "",
      "description_tooltip": null,
      "layout": "IPY_MODEL_2368015d6dfa465daed48c373bd930ae",
      "placeholder": "​",
      "style": "IPY_MODEL_0c6bb8d605da4bfc9961d2f36a95b0c4",
      "value": "100%"
     }
    },
    "8d0ba586593643a08146853a7bc40f54": {
     "model_module": "@jupyter-widgets/base",
     "model_module_version": "1.2.0",
     "model_name": "LayoutModel",
     "state": {
      "_model_module": "@jupyter-widgets/base",
      "_model_module_version": "1.2.0",
      "_model_name": "LayoutModel",
      "_view_count": null,
      "_view_module": "@jupyter-widgets/base",
      "_view_module_version": "1.2.0",
      "_view_name": "LayoutView",
      "align_content": null,
      "align_items": null,
      "align_self": null,
      "border": null,
      "bottom": null,
      "display": null,
      "flex": null,
      "flex_flow": null,
      "grid_area": null,
      "grid_auto_columns": null,
      "grid_auto_flow": null,
      "grid_auto_rows": null,
      "grid_column": null,
      "grid_gap": null,
      "grid_row": null,
      "grid_template_areas": null,
      "grid_template_columns": null,
      "grid_template_rows": null,
      "height": null,
      "justify_content": null,
      "justify_items": null,
      "left": null,
      "margin": null,
      "max_height": null,
      "max_width": null,
      "min_height": null,
      "min_width": null,
      "object_fit": null,
      "object_position": null,
      "order": null,
      "overflow": null,
      "overflow_x": null,
      "overflow_y": null,
      "padding": null,
      "right": null,
      "top": null,
      "visibility": null,
      "width": null
     }
    },
    "91576b2b091d4abeb2ccb6be1ecb5e55": {
     "model_module": "@jupyter-widgets/base",
     "model_module_version": "1.2.0",
     "model_name": "LayoutModel",
     "state": {
      "_model_module": "@jupyter-widgets/base",
      "_model_module_version": "1.2.0",
      "_model_name": "LayoutModel",
      "_view_count": null,
      "_view_module": "@jupyter-widgets/base",
      "_view_module_version": "1.2.0",
      "_view_name": "LayoutView",
      "align_content": null,
      "align_items": null,
      "align_self": null,
      "border": null,
      "bottom": null,
      "display": null,
      "flex": null,
      "flex_flow": null,
      "grid_area": null,
      "grid_auto_columns": null,
      "grid_auto_flow": null,
      "grid_auto_rows": null,
      "grid_column": null,
      "grid_gap": null,
      "grid_row": null,
      "grid_template_areas": null,
      "grid_template_columns": null,
      "grid_template_rows": null,
      "height": null,
      "justify_content": null,
      "justify_items": null,
      "left": null,
      "margin": null,
      "max_height": null,
      "max_width": null,
      "min_height": null,
      "min_width": null,
      "object_fit": null,
      "object_position": null,
      "order": null,
      "overflow": null,
      "overflow_x": null,
      "overflow_y": null,
      "padding": null,
      "right": null,
      "top": null,
      "visibility": null,
      "width": null
     }
    },
    "96a6e48aaf66450fac6c7505c73f2baf": {
     "model_module": "@jupyter-widgets/controls",
     "model_module_version": "1.5.0",
     "model_name": "ProgressStyleModel",
     "state": {
      "_model_module": "@jupyter-widgets/controls",
      "_model_module_version": "1.5.0",
      "_model_name": "ProgressStyleModel",
      "_view_count": null,
      "_view_module": "@jupyter-widgets/base",
      "_view_module_version": "1.2.0",
      "_view_name": "StyleView",
      "bar_color": null,
      "description_width": ""
     }
    },
    "99945671e0f945fb95e8bc1bce2a2d1b": {
     "model_module": "@jupyter-widgets/base",
     "model_module_version": "1.2.0",
     "model_name": "LayoutModel",
     "state": {
      "_model_module": "@jupyter-widgets/base",
      "_model_module_version": "1.2.0",
      "_model_name": "LayoutModel",
      "_view_count": null,
      "_view_module": "@jupyter-widgets/base",
      "_view_module_version": "1.2.0",
      "_view_name": "LayoutView",
      "align_content": null,
      "align_items": null,
      "align_self": null,
      "border": null,
      "bottom": null,
      "display": null,
      "flex": null,
      "flex_flow": null,
      "grid_area": null,
      "grid_auto_columns": null,
      "grid_auto_flow": null,
      "grid_auto_rows": null,
      "grid_column": null,
      "grid_gap": null,
      "grid_row": null,
      "grid_template_areas": null,
      "grid_template_columns": null,
      "grid_template_rows": null,
      "height": null,
      "justify_content": null,
      "justify_items": null,
      "left": null,
      "margin": null,
      "max_height": null,
      "max_width": null,
      "min_height": null,
      "min_width": null,
      "object_fit": null,
      "object_position": null,
      "order": null,
      "overflow": null,
      "overflow_x": null,
      "overflow_y": null,
      "padding": null,
      "right": null,
      "top": null,
      "visibility": null,
      "width": null
     }
    },
    "9abb583dc1bd4661857049ffd6d2cb01": {
     "model_module": "@jupyter-widgets/controls",
     "model_module_version": "1.5.0",
     "model_name": "DescriptionStyleModel",
     "state": {
      "_model_module": "@jupyter-widgets/controls",
      "_model_module_version": "1.5.0",
      "_model_name": "DescriptionStyleModel",
      "_view_count": null,
      "_view_module": "@jupyter-widgets/base",
      "_view_module_version": "1.2.0",
      "_view_name": "StyleView",
      "description_width": ""
     }
    },
    "9b2a761cb9d94218abd61b4f53478dc7": {
     "model_module": "@jupyter-widgets/base",
     "model_module_version": "1.2.0",
     "model_name": "LayoutModel",
     "state": {
      "_model_module": "@jupyter-widgets/base",
      "_model_module_version": "1.2.0",
      "_model_name": "LayoutModel",
      "_view_count": null,
      "_view_module": "@jupyter-widgets/base",
      "_view_module_version": "1.2.0",
      "_view_name": "LayoutView",
      "align_content": null,
      "align_items": null,
      "align_self": null,
      "border": null,
      "bottom": null,
      "display": null,
      "flex": null,
      "flex_flow": null,
      "grid_area": null,
      "grid_auto_columns": null,
      "grid_auto_flow": null,
      "grid_auto_rows": null,
      "grid_column": null,
      "grid_gap": null,
      "grid_row": null,
      "grid_template_areas": null,
      "grid_template_columns": null,
      "grid_template_rows": null,
      "height": null,
      "justify_content": null,
      "justify_items": null,
      "left": null,
      "margin": null,
      "max_height": null,
      "max_width": null,
      "min_height": null,
      "min_width": null,
      "object_fit": null,
      "object_position": null,
      "order": null,
      "overflow": null,
      "overflow_x": null,
      "overflow_y": null,
      "padding": null,
      "right": null,
      "top": null,
      "visibility": null,
      "width": null
     }
    },
    "9d52ee55c28d4f1ea4da3711f0ff84d9": {
     "model_module": "@jupyter-widgets/controls",
     "model_module_version": "1.5.0",
     "model_name": "DescriptionStyleModel",
     "state": {
      "_model_module": "@jupyter-widgets/controls",
      "_model_module_version": "1.5.0",
      "_model_name": "DescriptionStyleModel",
      "_view_count": null,
      "_view_module": "@jupyter-widgets/base",
      "_view_module_version": "1.2.0",
      "_view_name": "StyleView",
      "description_width": ""
     }
    },
    "ac50de04157e4f9180a28a7e93509ee6": {
     "model_module": "@jupyter-widgets/controls",
     "model_module_version": "1.5.0",
     "model_name": "HBoxModel",
     "state": {
      "_dom_classes": [],
      "_model_module": "@jupyter-widgets/controls",
      "_model_module_version": "1.5.0",
      "_model_name": "HBoxModel",
      "_view_count": null,
      "_view_module": "@jupyter-widgets/controls",
      "_view_module_version": "1.5.0",
      "_view_name": "HBoxView",
      "box_style": "",
      "children": [
       "IPY_MODEL_6e71ed09e05045a8ad6b12fd7942ddf4",
       "IPY_MODEL_130e2ddcdaf043649e4e5f5d5413ee01",
       "IPY_MODEL_bf600455b9764392ba4812e57bbe2688"
      ],
      "layout": "IPY_MODEL_3480548c7e00423fb404e639eb29834f"
     }
    },
    "bf600455b9764392ba4812e57bbe2688": {
     "model_module": "@jupyter-widgets/controls",
     "model_module_version": "1.5.0",
     "model_name": "HTMLModel",
     "state": {
      "_dom_classes": [],
      "_model_module": "@jupyter-widgets/controls",
      "_model_module_version": "1.5.0",
      "_model_name": "HTMLModel",
      "_view_count": null,
      "_view_module": "@jupyter-widgets/controls",
      "_view_module_version": "1.5.0",
      "_view_name": "HTMLView",
      "description": "",
      "description_tooltip": null,
      "layout": "IPY_MODEL_f0bc92271f5c425396fa1b6bc510c629",
      "placeholder": "​",
      "style": "IPY_MODEL_1daba88c299e4c63af305dfe7f4deb25",
      "value": " 28881/28881 [00:00&lt;00:00, 941635.01it/s]"
     }
    },
    "ce36ac2a616e444f84af162ef6ae64f0": {
     "model_module": "@jupyter-widgets/controls",
     "model_module_version": "1.5.0",
     "model_name": "HBoxModel",
     "state": {
      "_dom_classes": [],
      "_model_module": "@jupyter-widgets/controls",
      "_model_module_version": "1.5.0",
      "_model_name": "HBoxModel",
      "_view_count": null,
      "_view_module": "@jupyter-widgets/controls",
      "_view_module_version": "1.5.0",
      "_view_name": "HBoxView",
      "box_style": "",
      "children": [
       "IPY_MODEL_5ef3f38f372f4f74973cee91fab3880f",
       "IPY_MODEL_688c5b3674e04bf3b546161d705805f2",
       "IPY_MODEL_16d247295f424be49ac81bb353de071a"
      ],
      "layout": "IPY_MODEL_0802de6857724d429b12beed9f0e9f97"
     }
    },
    "d037917ecaa840dc8a764fd6c485e1fb": {
     "model_module": "@jupyter-widgets/controls",
     "model_module_version": "1.5.0",
     "model_name": "FloatProgressModel",
     "state": {
      "_dom_classes": [],
      "_model_module": "@jupyter-widgets/controls",
      "_model_module_version": "1.5.0",
      "_model_name": "FloatProgressModel",
      "_view_count": null,
      "_view_module": "@jupyter-widgets/controls",
      "_view_module_version": "1.5.0",
      "_view_name": "ProgressView",
      "bar_style": "success",
      "description": "",
      "description_tooltip": null,
      "layout": "IPY_MODEL_3098c9be783a417ba4d564f5ebea9f51",
      "max": 9912422,
      "min": 0,
      "orientation": "horizontal",
      "style": "IPY_MODEL_0363d60753be40948039b32f60f0dbe5",
      "value": 9912422
     }
    },
    "d0e5cdaa78b547e98abc5a9b33e272c6": {
     "model_module": "@jupyter-widgets/controls",
     "model_module_version": "1.5.0",
     "model_name": "FloatProgressModel",
     "state": {
      "_dom_classes": [],
      "_model_module": "@jupyter-widgets/controls",
      "_model_module_version": "1.5.0",
      "_model_name": "FloatProgressModel",
      "_view_count": null,
      "_view_module": "@jupyter-widgets/controls",
      "_view_module_version": "1.5.0",
      "_view_name": "ProgressView",
      "bar_style": "success",
      "description": "",
      "description_tooltip": null,
      "layout": "IPY_MODEL_869f5c338db4488abaf86fa30e75b206",
      "max": 4542,
      "min": 0,
      "orientation": "horizontal",
      "style": "IPY_MODEL_46a57371a45b4a86944f209e8124fecc",
      "value": 4542
     }
    },
    "dbde712c39454064b6bf038fecf54b22": {
     "model_module": "@jupyter-widgets/base",
     "model_module_version": "1.2.0",
     "model_name": "LayoutModel",
     "state": {
      "_model_module": "@jupyter-widgets/base",
      "_model_module_version": "1.2.0",
      "_model_name": "LayoutModel",
      "_view_count": null,
      "_view_module": "@jupyter-widgets/base",
      "_view_module_version": "1.2.0",
      "_view_name": "LayoutView",
      "align_content": null,
      "align_items": null,
      "align_self": null,
      "border": null,
      "bottom": null,
      "display": null,
      "flex": null,
      "flex_flow": null,
      "grid_area": null,
      "grid_auto_columns": null,
      "grid_auto_flow": null,
      "grid_auto_rows": null,
      "grid_column": null,
      "grid_gap": null,
      "grid_row": null,
      "grid_template_areas": null,
      "grid_template_columns": null,
      "grid_template_rows": null,
      "height": null,
      "justify_content": null,
      "justify_items": null,
      "left": null,
      "margin": null,
      "max_height": null,
      "max_width": null,
      "min_height": null,
      "min_width": null,
      "object_fit": null,
      "object_position": null,
      "order": null,
      "overflow": null,
      "overflow_x": null,
      "overflow_y": null,
      "padding": null,
      "right": null,
      "top": null,
      "visibility": null,
      "width": null
     }
    },
    "de08af4f0ca04cf7ae55258e2b8f8ef2": {
     "model_module": "@jupyter-widgets/controls",
     "model_module_version": "1.5.0",
     "model_name": "HTMLModel",
     "state": {
      "_dom_classes": [],
      "_model_module": "@jupyter-widgets/controls",
      "_model_module_version": "1.5.0",
      "_model_name": "HTMLModel",
      "_view_count": null,
      "_view_module": "@jupyter-widgets/controls",
      "_view_module_version": "1.5.0",
      "_view_name": "HTMLView",
      "description": "",
      "description_tooltip": null,
      "layout": "IPY_MODEL_75ef3eb1e4fb459e89bd0fb02113507c",
      "placeholder": "​",
      "style": "IPY_MODEL_4a80080ae1cb46c384bfc6d4b05f5057",
      "value": "100%"
     }
    },
    "e0a01ad190b64118a7edb56ea456961f": {
     "model_module": "@jupyter-widgets/base",
     "model_module_version": "1.2.0",
     "model_name": "LayoutModel",
     "state": {
      "_model_module": "@jupyter-widgets/base",
      "_model_module_version": "1.2.0",
      "_model_name": "LayoutModel",
      "_view_count": null,
      "_view_module": "@jupyter-widgets/base",
      "_view_module_version": "1.2.0",
      "_view_name": "LayoutView",
      "align_content": null,
      "align_items": null,
      "align_self": null,
      "border": null,
      "bottom": null,
      "display": null,
      "flex": "2",
      "flex_flow": null,
      "grid_area": null,
      "grid_auto_columns": null,
      "grid_auto_flow": null,
      "grid_auto_rows": null,
      "grid_column": null,
      "grid_gap": null,
      "grid_row": null,
      "grid_template_areas": null,
      "grid_template_columns": null,
      "grid_template_rows": null,
      "height": null,
      "justify_content": null,
      "justify_items": null,
      "left": null,
      "margin": null,
      "max_height": null,
      "max_width": null,
      "min_height": null,
      "min_width": null,
      "object_fit": null,
      "object_position": null,
      "order": null,
      "overflow": null,
      "overflow_x": null,
      "overflow_y": null,
      "padding": null,
      "right": null,
      "top": null,
      "visibility": null,
      "width": null
     }
    },
    "e38211475bb0421abb86c428710cfd04": {
     "model_module": "@jupyter-widgets/base",
     "model_module_version": "1.2.0",
     "model_name": "LayoutModel",
     "state": {
      "_model_module": "@jupyter-widgets/base",
      "_model_module_version": "1.2.0",
      "_model_name": "LayoutModel",
      "_view_count": null,
      "_view_module": "@jupyter-widgets/base",
      "_view_module_version": "1.2.0",
      "_view_name": "LayoutView",
      "align_content": null,
      "align_items": null,
      "align_self": null,
      "border": null,
      "bottom": null,
      "display": null,
      "flex": null,
      "flex_flow": null,
      "grid_area": null,
      "grid_auto_columns": null,
      "grid_auto_flow": null,
      "grid_auto_rows": null,
      "grid_column": null,
      "grid_gap": null,
      "grid_row": null,
      "grid_template_areas": null,
      "grid_template_columns": null,
      "grid_template_rows": null,
      "height": null,
      "justify_content": null,
      "justify_items": null,
      "left": null,
      "margin": null,
      "max_height": null,
      "max_width": null,
      "min_height": null,
      "min_width": null,
      "object_fit": null,
      "object_position": null,
      "order": null,
      "overflow": null,
      "overflow_x": null,
      "overflow_y": null,
      "padding": null,
      "right": null,
      "top": null,
      "visibility": null,
      "width": null
     }
    },
    "ecb4da6e2816465885234081b0f4ad49": {
     "model_module": "@jupyter-widgets/controls",
     "model_module_version": "1.5.0",
     "model_name": "HBoxModel",
     "state": {
      "_dom_classes": [],
      "_model_module": "@jupyter-widgets/controls",
      "_model_module_version": "1.5.0",
      "_model_name": "HBoxModel",
      "_view_count": null,
      "_view_module": "@jupyter-widgets/controls",
      "_view_module_version": "1.5.0",
      "_view_name": "HBoxView",
      "box_style": "",
      "children": [
       "IPY_MODEL_de08af4f0ca04cf7ae55258e2b8f8ef2",
       "IPY_MODEL_d037917ecaa840dc8a764fd6c485e1fb",
       "IPY_MODEL_4c111ac3f51447a2a719000cf0f56cb2"
      ],
      "layout": "IPY_MODEL_11a52fe8010d4604836dd543791405d5"
     }
    },
    "f0bc92271f5c425396fa1b6bc510c629": {
     "model_module": "@jupyter-widgets/base",
     "model_module_version": "1.2.0",
     "model_name": "LayoutModel",
     "state": {
      "_model_module": "@jupyter-widgets/base",
      "_model_module_version": "1.2.0",
      "_model_name": "LayoutModel",
      "_view_count": null,
      "_view_module": "@jupyter-widgets/base",
      "_view_module_version": "1.2.0",
      "_view_name": "LayoutView",
      "align_content": null,
      "align_items": null,
      "align_self": null,
      "border": null,
      "bottom": null,
      "display": null,
      "flex": null,
      "flex_flow": null,
      "grid_area": null,
      "grid_auto_columns": null,
      "grid_auto_flow": null,
      "grid_auto_rows": null,
      "grid_column": null,
      "grid_gap": null,
      "grid_row": null,
      "grid_template_areas": null,
      "grid_template_columns": null,
      "grid_template_rows": null,
      "height": null,
      "justify_content": null,
      "justify_items": null,
      "left": null,
      "margin": null,
      "max_height": null,
      "max_width": null,
      "min_height": null,
      "min_width": null,
      "object_fit": null,
      "object_position": null,
      "order": null,
      "overflow": null,
      "overflow_x": null,
      "overflow_y": null,
      "padding": null,
      "right": null,
      "top": null,
      "visibility": null,
      "width": null
     }
    },
    "f602d2dbcfff4738bc4f91b05f5c311f": {
     "model_module": "@jupyter-widgets/controls",
     "model_module_version": "1.5.0",
     "model_name": "HTMLModel",
     "state": {
      "_dom_classes": [],
      "_model_module": "@jupyter-widgets/controls",
      "_model_module_version": "1.5.0",
      "_model_name": "HTMLModel",
      "_view_count": null,
      "_view_module": "@jupyter-widgets/controls",
      "_view_module_version": "1.5.0",
      "_view_name": "HTMLView",
      "description": "",
      "description_tooltip": null,
      "layout": "IPY_MODEL_8d0ba586593643a08146853a7bc40f54",
      "placeholder": "​",
      "style": "IPY_MODEL_3fff6842fcde455e93433c421d7a95ba",
      "value": " 1648877/1648877 [00:00&lt;00:00, 29795621.05it/s]"
     }
    }
   }
  }
 },
 "nbformat": 4,
 "nbformat_minor": 4
}
