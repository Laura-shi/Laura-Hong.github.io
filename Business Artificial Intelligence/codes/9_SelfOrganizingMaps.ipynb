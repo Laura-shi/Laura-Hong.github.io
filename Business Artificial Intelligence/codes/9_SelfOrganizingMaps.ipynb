{
  "nbformat": 4,
  "nbformat_minor": 0,
  "metadata": {
    "colab": {
      "name": "9_SelfOrganizingMaps.ipynb",
      "provenance": [],
      "collapsed_sections": []
    },
    "kernelspec": {
      "name": "python3",
      "display_name": "Python 3"
    }
  },
  "cells": [
    {
      "cell_type": "markdown",
      "metadata": {
        "id": "PPcmlrlKdSnG",
        "colab_type": "text"
      },
      "source": [
        "# Self Organizing Map - for outlier detection\n",
        "Self organizing maps (SOM) are used to automatically identify clusters in our data.\n",
        "\n",
        "In this activity we will use SOM to identify outliers in a credit card application dataset. Extreme outliers in this dataset could indicate potentially fraudulent applications. \n",
        "\n",
        "You can try running SOM on some other dataset you are interested in with slight changes to the code (mainly data preprocessing parts)"
      ]
    },
    {
      "cell_type": "markdown",
      "metadata": {
        "id": "UDEtyRAiG1MG",
        "colab_type": "text"
      },
      "source": [
        "## Dataset on credit card applications\n",
        "Download the dataset \"Credit_Card_Applications.csv\" from elearn, and upload it to your session. \n",
        "\n",
        "Here is the original source of the dataset:\n",
        "http://archive.ics.uci.edu/ml/datasets/statlog+(australian+credit+approval)\n"
      ]
    },
    {
      "cell_type": "code",
      "metadata": {
        "id": "1q0rFwNGtMP2",
        "colab_type": "code",
        "colab": {}
      },
      "source": [
        "# importing the libraries\n",
        "import numpy as np\n",
        "import matplotlib.pyplot as plt\n",
        "import pandas as pd\n",
        "\n",
        "# Importing the dataset\n",
        "dataset = pd.read_csv('Credit_Card_Applications.csv')\n",
        "dataset.head(3)"
      ],
      "execution_count": 0,
      "outputs": []
    },
    {
      "cell_type": "markdown",
      "metadata": {
        "id": "mIju7dnKrVRw",
        "colab_type": "text"
      },
      "source": [
        "We will use variables A1 to A14 (variable names are anonymized) as input (X). \n",
        "\n",
        "\"Approved\" variable indicates whether the customer's credit card application was approved or denied. We won't feed this variable to the SOM, but will later on use it to overlay markers on the map."
      ]
    },
    {
      "cell_type": "code",
      "metadata": {
        "id": "rj4brmTlafff",
        "colab_type": "code",
        "colab": {}
      },
      "source": [
        "X = dataset.iloc[:, 0:15]\n",
        "y = dataset.iloc[:, -1]"
      ],
      "execution_count": 0,
      "outputs": []
    },
    {
      "cell_type": "code",
      "metadata": {
        "id": "PqqgBFkm0efo",
        "colab_type": "code",
        "colab": {}
      },
      "source": [
        "# Feature Scaling\n",
        "from sklearn.preprocessing import MinMaxScaler\n",
        "sc = MinMaxScaler(feature_range = (0, 1))\n",
        "X = sc.fit_transform(X)"
      ],
      "execution_count": 0,
      "outputs": []
    },
    {
      "cell_type": "markdown",
      "metadata": {
        "id": "ui41wvgM0otM",
        "colab_type": "text"
      },
      "source": [
        "## Import MiniSom library\n",
        "tensorflow.keras does not have a built-in SOM model/layer. We will use a lighweight implementation of SOM. \n",
        "Uncomment the \"pip install minisom\" line to install the library first (here is the original source \n",
        "https://github.com/JustGlowing/minisom )"
      ]
    },
    {
      "cell_type": "code",
      "metadata": {
        "id": "0GFDYvG50kjl",
        "colab_type": "code",
        "colab": {}
      },
      "source": [
        "!pip install minisom \n",
        "from minisom import MiniSom"
      ],
      "execution_count": 0,
      "outputs": []
    },
    {
      "cell_type": "markdown",
      "metadata": {
        "id": "QqMDA4UP8hJC",
        "colab_type": "text"
      },
      "source": [
        "we use a 2D map that consists of 10x10=100 neurons (x and y input values for MiniSom below). "
      ]
    },
    {
      "cell_type": "code",
      "metadata": {
        "id": "nvTWPpxZ1Oyu",
        "colab_type": "code",
        "colab": {}
      },
      "source": [
        "# setting up the SOM\n",
        "som = MiniSom(x = 10, y = 10, input_len =X.shape[1], sigma = 1.0, learning_rate = 0.2, random_seed=11) #seed=11\n",
        "# initialize SOM with random weights\n",
        "som.random_weights_init(X)\n",
        "# training the SOM\n",
        "som.train_random(data = X, num_iteration = 100)"
      ],
      "execution_count": 0,
      "outputs": []
    },
    {
      "cell_type": "markdown",
      "metadata": {
        "id": "fP5EMk4tCHNW",
        "colab_type": "text"
      },
      "source": [
        "## Visualize SOM results"
      ]
    },
    {
      "cell_type": "code",
      "metadata": {
        "id": "ZCJ22YJYGhNl",
        "colab_type": "code",
        "colab": {}
      },
      "source": [
        "# Visualizing the results\n",
        "from pylab import bone, pcolor, colorbar, plot, show\n",
        "bone()\n",
        "pcolor(som.distance_map().T) #plot SOM distance map\n",
        "#the color indicates the neuron's distance from neighboring neurons\n",
        "colorbar() #adding a colorbar legend for readibility\n",
        "markers = ['o', 's'] \n",
        "colors = ['r', 'g']\n",
        "#red circles: approved=0\n",
        "#green squares: approved=1\n",
        "for i, x in enumerate(X):\n",
        "    w = som.winner(x)\n",
        "    plot(w[0] + 0.5,\n",
        "         w[1] + 0.5,\n",
        "         markers[y[i]], #ass markers using the \"Approved\" value \n",
        "         markeredgecolor = colors[y[i]],\n",
        "         markerfacecolor = 'None',\n",
        "         markersize = 9,\n",
        "         markeredgewidth = 1\n",
        "         )\n",
        "show()"
      ],
      "execution_count": 0,
      "outputs": []
    },
    {
      "cell_type": "markdown",
      "metadata": {
        "id": "HjWLHZ8D87vT",
        "colab_type": "text"
      },
      "source": [
        "## Identifying outliers \n",
        "The neuron located at position (8,1) stands out from its neighbors. Let's find the customers that are mapped to this neuron."
      ]
    },
    {
      "cell_type": "code",
      "metadata": {
        "id": "t3WR7JwMJnTN",
        "colab_type": "code",
        "colab": {}
      },
      "source": [
        "# identifying potential fraudulent applications\n",
        "mappings = som.win_map(X)\n",
        "fraud=mappings[(8,1)];\n",
        "#fraud = np.concatenate((mappings[(3,3)], mappings[(5,5)]), axis = 0)#to select multiple units on the map"
      ],
      "execution_count": 0,
      "outputs": []
    },
    {
      "cell_type": "code",
      "metadata": {
        "id": "ypZtD1baJej-",
        "colab_type": "code",
        "colab": {}
      },
      "source": [
        "#inverse transform to get the actual customer IDs\n",
        "fraud = sc.inverse_transform(fraud)"
      ],
      "execution_count": 0,
      "outputs": []
    },
    {
      "cell_type": "code",
      "metadata": {
        "id": "ndnTteYea4BW",
        "colab_type": "code",
        "colab": {}
      },
      "source": [
        "print(len(fraud),\"potential fraudulent applications\")\n",
        "print('Customer IDs:',\n",
        "fraud[:,0])"
      ],
      "execution_count": 0,
      "outputs": []
    },
    {
      "cell_type": "markdown",
      "metadata": {
        "id": "zmwKyU9h_IJ4",
        "colab_type": "text"
      },
      "source": [
        "## Create another SOM \n",
        "Let's try another SOM with 15x10 neurons. "
      ]
    },
    {
      "cell_type": "code",
      "metadata": {
        "id": "CweE6Lz__IVS",
        "colab_type": "code",
        "colab": {}
      },
      "source": [
        "som = MiniSom(x = 15, y = 10, input_len=X.shape[1], sigma = 1.0, learning_rate = 0.2, random_seed=11)\n",
        "som.random_weights_init(X)\n",
        "som.train_random(data = X, num_iteration = 100)"
      ],
      "execution_count": 0,
      "outputs": []
    },
    {
      "cell_type": "code",
      "metadata": {
        "id": "bw9mj2nCCe6g",
        "colab_type": "code",
        "colab": {}
      },
      "source": [
        "# Visualizing the results\n",
        "from pylab import bone, pcolor, colorbar, plot, show\n",
        "bone()\n",
        "pcolor(som.distance_map().T) #plot SOM distance map\n",
        "#the color indicates the neuron's distance from neighboring neurons\n",
        "colorbar() #adding a colorbar legend for readibility\n",
        "markers = ['o', 's'] \n",
        "colors = ['r', 'g']\n",
        "#red circles: approved=0\n",
        "#green squares: approved=1\n",
        "for i, x in enumerate(X):\n",
        "    w = som.winner(x)\n",
        "    plot(w[0] + 0.5,\n",
        "         w[1] + 0.5,\n",
        "         markers[y[i]], #ass markers using the \"Approved\" value \n",
        "         markeredgecolor = colors[y[i]],\n",
        "         markerfacecolor = 'None',\n",
        "         markersize = 9,\n",
        "         markeredgewidth = 1\n",
        "         )\n",
        "show()"
      ],
      "execution_count": 0,
      "outputs": []
    },
    {
      "cell_type": "markdown",
      "metadata": {
        "id": "bv34t7aJD2st",
        "colab_type": "text"
      },
      "source": [
        "### Question 1\n",
        "Which neurons on your map seem to be outliers? \n",
        "\n",
        "\n",
        "specify their position in the following cell to retrieve the corresponding customer IDs. "
      ]
    },
    {
      "cell_type": "code",
      "metadata": {
        "id": "GBzk49-sDHAL",
        "colab_type": "code",
        "colab": {}
      },
      "source": [
        "mappings = som.win_map(X)\n",
        "#enter location of outlier neuron based on the above maps\n",
        "#fraud=mappings[(1,8)]; #use this line if you have only 1 outlier neuron\n",
        "fraud = np.concatenate((mappings[(1,7)], mappings[(1,8)]), axis = 0) #use this line if you have more than one neuron\n",
        "fraud = sc.inverse_transform(fraud)\n",
        "print(len(fraud),\"potential fraudulent applications\")\n",
        "print('Customer IDs:',\n",
        "fraud[:,0])"
      ],
      "execution_count": 0,
      "outputs": []
    },
    {
      "cell_type": "markdown",
      "metadata": {
        "id": "Q0PcpZIUDjwK",
        "colab_type": "text"
      },
      "source": [
        "###Question 2 \n",
        "How many potentially fradulent applications do you identiy using the second SOM? "
      ]
    },
    {
      "cell_type": "markdown",
      "metadata": {
        "id": "aGhukAa9DxyT",
        "colab_type": "text"
      },
      "source": [
        "### Question 3\n",
        "Do the identified outlier IDs overlap with those identified using the first SOM? \n"
      ]
    },
    {
      "cell_type": "markdown",
      "metadata": {
        "id": "REJooRvBEpni",
        "colab_type": "text"
      },
      "source": [
        "### Question 4 (optional)\n",
        "Can you explain why the two sets of results could be different?"
      ]
    }
  ]
}