{
  "nbformat": 4,
  "nbformat_minor": 0,
  "metadata": {
    "colab": {
      "name": "13_Text Summarization.ipynb",
      "provenance": [],
      "collapsed_sections": [],
      "toc_visible": true
    },
    "kernelspec": {
      "name": "python3",
      "display_name": "Python 3"
    }
  },
  "cells": [
    {
      "cell_type": "markdown",
      "metadata": {
        "id": "DgeDJbx0fzeo"
      },
      "source": [
        "# Text Summarization using Deep Neural Networks\n",
        "\n",
        "Another useful application of AI models for Natural Language processing is Text summarization.\n",
        "\n",
        "We will use two different algorithms for extractive summarization in this activity:\n",
        "* TextRank algorithm and its implementation from the gensim library.\n",
        "* An implementation of BERT (Bidirectional Encoder Representations from Transformers) for abstractice summarization.\n",
        "\n",
        "This is a very easy activity, since we are simply using implementations of these models and not modifying any parameters of the underlying algorithms/models.\n",
        "Please refer to the slides for details. \n"
      ]
    },
    {
      "cell_type": "markdown",
      "metadata": {
        "id": "n19GKz6GlIgy"
      },
      "source": [
        "# Sample text Data \n",
        "\n",
        "I am using the text version of the book \"Animal Farm\" as sample data. Download the file \"*Animal Farm.txt*\" from elarn and upload it to your session before proceeding. \n",
        "\n",
        "You can use any other text file as input for either summarizer. Some pre-processing to clean it up might be required. \n",
        "\n",
        "You can find text files for other famous books on http://gutenberg.net.au/. \n",
        "\n",
        "Another source for text files of movie scripts is https://osf.io/zytmp/ ."
      ]
    },
    {
      "cell_type": "code",
      "metadata": {
        "id": "SV-OR7x8u7Q0"
      },
      "source": [
        "# open and read the text file\n",
        "f = open('Animal Farm.txt')\n",
        "text = f.read()\n",
        "f.close()\n"
      ],
      "execution_count": null,
      "outputs": []
    },
    {
      "cell_type": "code",
      "metadata": {
        "id": "VO6ZFp-xQlgK"
      },
      "source": [
        "text"
      ],
      "execution_count": null,
      "outputs": []
    },
    {
      "cell_type": "code",
      "metadata": {
        "id": "jzBxdstO0E5W"
      },
      "source": [
        "# pre-processing: just removing consecutive whitespaces \n",
        "from gensim.parsing.preprocessing import strip_multiple_whitespaces\n",
        "# remove consecutive whitespaces\n",
        "text=strip_multiple_whitespaces(text)"
      ],
      "execution_count": null,
      "outputs": []
    },
    {
      "cell_type": "markdown",
      "metadata": {
        "id": "F6WYb6iskSX0"
      },
      "source": [
        "# TextRank algorithm for summarization \n"
      ]
    },
    {
      "cell_type": "code",
      "metadata": {
        "id": "7_XVMNMMkVmk"
      },
      "source": [
        "# installing and importing gensim libaries for summarization and keyword extraction\n",
        "#!pip install gensim\n",
        "from gensim.summarization.summarizer import summarize\n",
        "from gensim.summarization import keywords"
      ],
      "execution_count": null,
      "outputs": []
    },
    {
      "cell_type": "code",
      "metadata": {
        "id": "5FpINf4cug3J"
      },
      "source": [
        "print ('Summary:')\n",
        "# you only need to specify the portion of the original text you want to keep in the summary\n",
        "# I am keeping 2% of the original below\n",
        "print (summarize(text, ratio=0.02))\n"
      ],
      "execution_count": null,
      "outputs": []
    },
    {
      "cell_type": "code",
      "metadata": {
        "id": "i-3yttqZ1kOz"
      },
      "source": [
        "print ('\\nKeywords:')\n",
        "# extract the keyword for the summary \n",
        "print (keywords(text, ratio=0.02))"
      ],
      "execution_count": null,
      "outputs": []
    },
    {
      "cell_type": "markdown",
      "metadata": {
        "id": "P4G4o-i3kWDQ"
      },
      "source": [
        "# BERT extractive Summarizer\n",
        "\n",
        "For details see https://pypi.org/project/bert-extractive-summarizer/ "
      ]
    },
    {
      "cell_type": "code",
      "metadata": {
        "id": "-GOpZZ9B2poV"
      },
      "source": [
        "#installing pre-requisite libraries\n",
        "!pip install sentencepiece"
      ],
      "execution_count": null,
      "outputs": []
    },
    {
      "cell_type": "code",
      "metadata": {
        "id": "VBDt6_H4TEnf"
      },
      "source": [
        "#installing the BERT summarizer\n",
        "!pip install bert-extractive-summarizer"
      ],
      "execution_count": null,
      "outputs": []
    },
    {
      "cell_type": "code",
      "metadata": {
        "id": "2cgDkW3De_Cf"
      },
      "source": [
        "from summarizer import Summarizer\n",
        "# this is going to take some space (~2GB in your session) \n",
        "# it downloads the trained summarizer model and instantiates a BERT summarizer model\n",
        "model=Summarizer()"
      ],
      "execution_count": null,
      "outputs": []
    },
    {
      "cell_type": "code",
      "metadata": {
        "id": "xsJFrz78hOPp"
      },
      "source": [
        "## takes quite a while to run! grab something to read, a snack, or coffee!\n",
        "# summarize the text with a ratio 0.02 (the default is 0.2)\n",
        "summary1=model(text,ratio=0.02)\n",
        "summary1"
      ],
      "execution_count": null,
      "outputs": []
    },
    {
      "cell_type": "markdown",
      "metadata": {
        "id": "PNiN11ZSz2sj"
      },
      "source": [
        "##The summary generated by the BERT summarizer with ratio 0.05 (copy-pasted from the code output)\n",
        "\n",
        "Title: Animal Farm Author: George Orwell (pseudonym of Eric Blair) (1903-1950) Chapter I Mr. Jones, of the Manor Farm, had locked the hen-houses for the night, but was too drunk to remember to shut the pop-holes. Last of all came the cat, who looked round, as usual, for the warmest place, and finally squeezed herself in between Boxer and Clover; there she purred contentedly throughout Major's speech without listening to a word of what he was saying. Let us face it: our lives are miserable, laborious, and short. Man is the only creature that consumes without producing. And you hens, how many eggs have you laid in this last year, and how many of those eggs ever hatched into chickens? But it reminded me of something that I had long forgotten. Comrade,\" said Snowball, \"those ribbons that you are so devoted to are the badge of slavery. Sometimes the work was hard; the implements had been designed for human beings and not for animals, and it was a great drawback that no animal was able to use any tool that involved standing on his hind legs. As for the horses, they knew every inch of the field, and in fact understood the business of mowing and raking far better than Jones and his men had ever done. With their superior knowledge it was natural that they should assume the leadership. All through that summer the work of the farm went like clockwork. They met with many difficulties--for instance, later in the year, when they harvested the corn, they had to tread it out in the ancient style and blow away the chaff with their breath, since the farm possessed no threshing machine--but the pigs with their cleverness and Boxer with his tremendous muscles always pulled them through. He had made an arrangement with one of the cockerels to call him in the mornings half an hour earlier than anyone else, and would put in some volunteer labour at whatever seemed to be most needed, before the regular day's work began. The cat joined the Re-education Committee and was very active in it for some days. She was seen one day sitting on a roof and talking to some sparrows who were just out of her reach. Mollie refused to learn any but the six letters which spelt her own name. None of the other animals on the farm could get further than the letter A. It was also found that the stupider animals, such as the sheep, hens, and ducks, were unable to learn the Seven Commandments by heart. When it was put to them in this light, they had no more to say. Most of this time Mr. Jones had spent sitting in the taproom of the Red Lion at Willingdon, complaining to anyone who would listen of the monstrous injustice he had suffered in being turned out of his property by a pack of good-for-nothing animals. The other farm, which was called Pinchfield, was smaller and better kept. When time passed and the animals had evidently not starved to death, Frederick and Pilkington changed their tune and began to talk of the terrible wickedness that now flourished on Animal Farm. Early in October, when the corn was cut and stacked and some of it was already threshed, a flight of pigeons came whirling through the air and alighted in the yard of Animal Farm in the wildest excitement. The only good human being is a dead one.\" \" For a moment there was great alarm; it was feared that the men might have harmed her in some way, or even carried her off with them. Many meetings were held in the big barn, and the pigs occupied themselves with planning out the work of the coming season. These two disagreed at every point where disagreement was possible. At this Snowball sprang to his feet, and shouting down the sheep, who had begun bleating again, broke into a passionate appeal in favour of the windmill. The rest of the animals sat facing them in the main body of the barn. On the third Sunday after Snowball's expulsion, the animals were somewhat surprised to hear Napoleon announce that the windmill was to be built after all. He did not give any reason for having changed his mind, but merely warned the animals that this extra task would mean very hard work, it might even be necessary to reduce their rations. The animals were not badly off throughout that summer, in spite of the hardness of their work. All the animals remembered passing such resolutions: or at least they thought that they remembered it. A few animals still felt faintly doubtful, but Squealer asked them shrewdly, \"Are you certain that this is not something that you have dreamed, comrades? One symptom of this was that they had begun to call Animal Farm by its proper name and ceased to pretend that it was called the Manor Farm. Surely none of you wishes to see Jones back?\" The animals reassured him on this point immediately, and no more was said about the pigs sleeping in the farmhouse beds. After the harvest there was a stretch of clear dry weather, and the animals toiled harder than ever, thinking it well worth while to plod to and fro all day with blocks of stone if by doing so they could raise the walls another foot. Unable at first to speak, they stood gazing mournfully at the litter of fallen stone. Almost immediately the footprints of a pig were discovered in the grass at a little distance from the knoll. cried Napoleon when the footprints had been examined. \" Some progress was made in the dry frosty weather that followed, but it was cruel work, and the animals could not feel so hopeful about it as they had felt before. They were always cold, and usually hungry as well. They were just getting their clutches ready for the spring sitting, and they protested that to take the eggs away now was murder. The dogs saw to it that these orders were carried out. Did we not see for ourselves how he attempted--fortunately without success--to get us defeated and destroyed at the Battle of the Cowshed?\" At first it was a little difficult to see how this fitted in with his being on Jones's side. The solution, as I see it, is to work harder. And though no one cared to mention it in the hearing of the pigs or the dogs, it was felt that the killings which had taken place did not square with this. But they saw now that the Commandment had not been violated; for clearly there was good reason for killing the traitors who had leagued themselves with Snowball. The animals saw no reason to disbelieve him, especially as they could no longer remember very clearly what conditions had been like before the Rebellion. Moreover, terrible stories were leaking out from Pinchfield about the cruelties that Frederick practised upon his animals. So far from being decorated, he had been censured for showing cowardice in the battle. The animals were at breakfast when the look-outs came racing in with the news that Frederick and his followers had already come through the five-barred gate. They were going to knock the windmill down. \" It was as though the windmill had never been. And we had worked on it for two years!\" \" It had been overlooked at the time when the house was first occupied. For the time being, the young pigs were given their instruction by Napoleon himself in the farmhouse kitchen. To tell you the truth, I had been looking forward to my retirement. Three days later it was announced that he had died in the hospital at Willingdon, in spite of receiving every attention a horse could have. It had come to his knowledge, he said, that a foolish and wicked rumour had been circulated at the time of Boxer's removal. Napoleon ended his speech with a reminder of Boxer's two favourite maxims, \"I will work harder\" and \"Comrade Napoleon is always right\"--maxims, he said, which every animal would do well to adopt as his own. Jones too was dead--he had died in an inebriates' home in another part of the country. One day in early summer Squealer ordered the sheep to follow him, and led them out to a piece of waste ground at the other end of the farm, which had become overgrown with birch saplings. It was just after the sheep had returned, on a pleasant evening when the animals had finished work and were making their way back to the farm buildings, that the terrified neighing of a horse sounded from the yard. Startled, the animals stopped in their tracks. It did not seem strange when Napoleon was seen strolling in the farmhouse garden with a pipe in his mouth--no, not even when the pigs took Mr. Jones's clothes out of the wardrobes and put them on, Napoleon himself appearing in a black coat, ratcatcher breeches, and leather leggings, while his favourite sow appeared in the watered silk dress which Mrs. Jones had been used to wearing on Sundays. No one noticed the wondering faces of the animals that gazed in at the window. In a moment, he said, he would ask the present company to drink a toast."
      ]
    }
  ]
}